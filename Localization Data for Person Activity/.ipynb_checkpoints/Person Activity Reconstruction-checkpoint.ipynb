{
 "cells": [
  {
   "cell_type": "markdown",
   "id": "60280a4f",
   "metadata": {},
   "source": [
    "# Name: Molchanov Semen\n",
    "\n",
    "# ID: 20B030231"
   ]
  },
  {
   "cell_type": "markdown",
   "id": "a7f52d9e",
   "metadata": {},
   "source": [
    "# Data set description\n",
    "\n",
    "Data contains recordings of five people performing different activities. Each person wore four sensors (tags) while performing the same scenario five times.\n",
    "\n",
    "People used for recording of the data were wearing four tags (ankle left, ankle right, belt and chest).\n",
    "Each instance is a localization data for one of the tags. The tag can be identified by one of the attributes.\n",
    "\n",
    "More info about the data set can be found in file *dataset_description.txt* or by the following link:\n",
    "\n",
    "http://archive.ics.uci.edu/ml/datasets/Localization+Data+for+Person+Activity\n",
    "\n",
    "## Aim of the work\n",
    "\n",
    "*To determine the activity (reconstruct the posture)* of the person basing on the data form the data set"
   ]
  },
  {
   "cell_type": "markdown",
   "id": "023609f9",
   "metadata": {},
   "source": [
    "### Libraries\n",
    "\n",
    "Importing instruments to work with:\n",
    "+ numeric data (numpy)\n",
    "+ table data (pandas)\n",
    "+ graph plotting (matplotlib)\n",
    "+ visualization (seaborn)"
   ]
  },
  {
   "cell_type": "code",
   "execution_count": 1,
   "id": "bb067d21",
   "metadata": {},
   "outputs": [],
   "source": [
    "import numpy as np\n",
    "import pandas as pd\n",
    "import matplotlib.pyplot as plt\n",
    "import seaborn as sns"
   ]
  },
  {
   "cell_type": "markdown",
   "id": "f878949f",
   "metadata": {},
   "source": [
    "### Inline\n",
    "\n",
    "So **matplotlib** can be used properly in *Jupyter Notebook*"
   ]
  },
  {
   "cell_type": "code",
   "execution_count": 2,
   "id": "6c00fdc9",
   "metadata": {},
   "outputs": [],
   "source": [
    "%matplotlib inline"
   ]
  },
  {
   "cell_type": "code",
   "execution_count": 3,
   "id": "4603141d",
   "metadata": {},
   "outputs": [
    {
     "data": {
      "text/html": [
       "<style>.container { width:95% !important; }</style>"
      ],
      "text/plain": [
       "<IPython.core.display.HTML object>"
      ]
     },
     "metadata": {},
     "output_type": "display_data"
    }
   ],
   "source": [
    "# change the cell width\n",
    "from IPython.display import display, HTML\n",
    "display(HTML(\"<style>.container { width:95% !important; }</style>\"))"
   ]
  },
  {
   "cell_type": "markdown",
   "id": "eac7871c",
   "metadata": {},
   "source": [
    "### Reading data\n",
    "\n",
    "Reading table data from the *.csv* file"
   ]
  },
  {
   "cell_type": "code",
   "execution_count": 4,
   "id": "587cf09c",
   "metadata": {},
   "outputs": [],
   "source": [
    "df = pd.read_csv('data.csv')"
   ]
  },
  {
   "cell_type": "markdown",
   "id": "fe816a66",
   "metadata": {},
   "source": [
    "### Checking the table\n",
    "\n",
    "Checking the first 5 rows of the table to ensure that it was read correctly"
   ]
  },
  {
   "cell_type": "code",
   "execution_count": 5,
   "id": "11a035b3",
   "metadata": {},
   "outputs": [
    {
     "data": {
      "text/html": [
       "<div>\n",
       "<style scoped>\n",
       "    .dataframe tbody tr th:only-of-type {\n",
       "        vertical-align: middle;\n",
       "    }\n",
       "\n",
       "    .dataframe tbody tr th {\n",
       "        vertical-align: top;\n",
       "    }\n",
       "\n",
       "    .dataframe thead th {\n",
       "        text-align: right;\n",
       "    }\n",
       "</style>\n",
       "<table border=\"1\" class=\"dataframe\">\n",
       "  <thead>\n",
       "    <tr style=\"text-align: right;\">\n",
       "      <th></th>\n",
       "      <th>A01</th>\n",
       "      <th>010-000-024-033</th>\n",
       "      <th>633790226051280329</th>\n",
       "      <th>27.05.2009 14:03:25:127</th>\n",
       "      <th>4.062931060791016</th>\n",
       "      <th>1.8924342393875122</th>\n",
       "      <th>0.5074254274368286</th>\n",
       "      <th>walking</th>\n",
       "    </tr>\n",
       "  </thead>\n",
       "  <tbody>\n",
       "    <tr>\n",
       "      <th>0</th>\n",
       "      <td>A01</td>\n",
       "      <td>020-000-033-111</td>\n",
       "      <td>633790226051820913</td>\n",
       "      <td>27.05.2009 14:03:25:183</td>\n",
       "      <td>4.291954</td>\n",
       "      <td>1.781140</td>\n",
       "      <td>1.344495</td>\n",
       "      <td>walking</td>\n",
       "    </tr>\n",
       "    <tr>\n",
       "      <th>1</th>\n",
       "      <td>A01</td>\n",
       "      <td>020-000-032-221</td>\n",
       "      <td>633790226052091205</td>\n",
       "      <td>27.05.2009 14:03:25:210</td>\n",
       "      <td>4.359101</td>\n",
       "      <td>1.826456</td>\n",
       "      <td>0.968821</td>\n",
       "      <td>walking</td>\n",
       "    </tr>\n",
       "    <tr>\n",
       "      <th>2</th>\n",
       "      <td>A01</td>\n",
       "      <td>010-000-024-033</td>\n",
       "      <td>633790226052361498</td>\n",
       "      <td>27.05.2009 14:03:25:237</td>\n",
       "      <td>4.087835</td>\n",
       "      <td>1.879999</td>\n",
       "      <td>0.466983</td>\n",
       "      <td>walking</td>\n",
       "    </tr>\n",
       "    <tr>\n",
       "      <th>3</th>\n",
       "      <td>A01</td>\n",
       "      <td>010-000-030-096</td>\n",
       "      <td>633790226052631792</td>\n",
       "      <td>27.05.2009 14:03:25:263</td>\n",
       "      <td>4.324462</td>\n",
       "      <td>2.072460</td>\n",
       "      <td>0.488065</td>\n",
       "      <td>walking</td>\n",
       "    </tr>\n",
       "    <tr>\n",
       "      <th>4</th>\n",
       "      <td>A01</td>\n",
       "      <td>020-000-033-111</td>\n",
       "      <td>633790226052902087</td>\n",
       "      <td>27.05.2009 14:03:25:290</td>\n",
       "      <td>4.364077</td>\n",
       "      <td>1.767691</td>\n",
       "      <td>1.299996</td>\n",
       "      <td>walking</td>\n",
       "    </tr>\n",
       "  </tbody>\n",
       "</table>\n",
       "</div>"
      ],
      "text/plain": [
       "   A01  010-000-024-033  633790226051280329  27.05.2009 14:03:25:127  \\\n",
       "0  A01  020-000-033-111  633790226051820913  27.05.2009 14:03:25:183   \n",
       "1  A01  020-000-032-221  633790226052091205  27.05.2009 14:03:25:210   \n",
       "2  A01  010-000-024-033  633790226052361498  27.05.2009 14:03:25:237   \n",
       "3  A01  010-000-030-096  633790226052631792  27.05.2009 14:03:25:263   \n",
       "4  A01  020-000-033-111  633790226052902087  27.05.2009 14:03:25:290   \n",
       "\n",
       "   4.062931060791016  1.8924342393875122  0.5074254274368286  walking  \n",
       "0           4.291954            1.781140            1.344495  walking  \n",
       "1           4.359101            1.826456            0.968821  walking  \n",
       "2           4.087835            1.879999            0.466983  walking  \n",
       "3           4.324462            2.072460            0.488065  walking  \n",
       "4           4.364077            1.767691            1.299996  walking  "
      ]
     },
     "execution_count": 5,
     "metadata": {},
     "output_type": "execute_result"
    }
   ],
   "source": [
    "df.head()"
   ]
  },
  {
   "cell_type": "markdown",
   "id": "93a4d7e8",
   "metadata": {},
   "source": [
    "### Assigning column names\n",
    "\n",
    "Looks like there are no column names in the read table. Names to be assigned according to the dataset description in the *dataset_description.txt* file"
   ]
  },
  {
   "cell_type": "code",
   "execution_count": 6,
   "id": "d011b93a",
   "metadata": {},
   "outputs": [],
   "source": [
    "df.columns = ['sequence name', 'tag ID', 'timestamp', 'date time', \n",
    "                'tag x coordinate', 'tag y coordinate', 'tag z coordinate', 'activity']"
   ]
  },
  {
   "cell_type": "code",
   "execution_count": 7,
   "id": "2b4cf7c6",
   "metadata": {},
   "outputs": [
    {
     "data": {
      "text/html": [
       "<div>\n",
       "<style scoped>\n",
       "    .dataframe tbody tr th:only-of-type {\n",
       "        vertical-align: middle;\n",
       "    }\n",
       "\n",
       "    .dataframe tbody tr th {\n",
       "        vertical-align: top;\n",
       "    }\n",
       "\n",
       "    .dataframe thead th {\n",
       "        text-align: right;\n",
       "    }\n",
       "</style>\n",
       "<table border=\"1\" class=\"dataframe\">\n",
       "  <thead>\n",
       "    <tr style=\"text-align: right;\">\n",
       "      <th></th>\n",
       "      <th>sequence name</th>\n",
       "      <th>tag ID</th>\n",
       "      <th>timestamp</th>\n",
       "      <th>date time</th>\n",
       "      <th>tag x coordinate</th>\n",
       "      <th>tag y coordinate</th>\n",
       "      <th>tag z coordinate</th>\n",
       "      <th>activity</th>\n",
       "    </tr>\n",
       "  </thead>\n",
       "  <tbody>\n",
       "    <tr>\n",
       "      <th>0</th>\n",
       "      <td>A01</td>\n",
       "      <td>020-000-033-111</td>\n",
       "      <td>633790226051820913</td>\n",
       "      <td>27.05.2009 14:03:25:183</td>\n",
       "      <td>4.291954</td>\n",
       "      <td>1.781140</td>\n",
       "      <td>1.344495</td>\n",
       "      <td>walking</td>\n",
       "    </tr>\n",
       "    <tr>\n",
       "      <th>1</th>\n",
       "      <td>A01</td>\n",
       "      <td>020-000-032-221</td>\n",
       "      <td>633790226052091205</td>\n",
       "      <td>27.05.2009 14:03:25:210</td>\n",
       "      <td>4.359101</td>\n",
       "      <td>1.826456</td>\n",
       "      <td>0.968821</td>\n",
       "      <td>walking</td>\n",
       "    </tr>\n",
       "    <tr>\n",
       "      <th>2</th>\n",
       "      <td>A01</td>\n",
       "      <td>010-000-024-033</td>\n",
       "      <td>633790226052361498</td>\n",
       "      <td>27.05.2009 14:03:25:237</td>\n",
       "      <td>4.087835</td>\n",
       "      <td>1.879999</td>\n",
       "      <td>0.466983</td>\n",
       "      <td>walking</td>\n",
       "    </tr>\n",
       "    <tr>\n",
       "      <th>3</th>\n",
       "      <td>A01</td>\n",
       "      <td>010-000-030-096</td>\n",
       "      <td>633790226052631792</td>\n",
       "      <td>27.05.2009 14:03:25:263</td>\n",
       "      <td>4.324462</td>\n",
       "      <td>2.072460</td>\n",
       "      <td>0.488065</td>\n",
       "      <td>walking</td>\n",
       "    </tr>\n",
       "    <tr>\n",
       "      <th>4</th>\n",
       "      <td>A01</td>\n",
       "      <td>020-000-033-111</td>\n",
       "      <td>633790226052902087</td>\n",
       "      <td>27.05.2009 14:03:25:290</td>\n",
       "      <td>4.364077</td>\n",
       "      <td>1.767691</td>\n",
       "      <td>1.299996</td>\n",
       "      <td>walking</td>\n",
       "    </tr>\n",
       "  </tbody>\n",
       "</table>\n",
       "</div>"
      ],
      "text/plain": [
       "  sequence name           tag ID           timestamp                date time  \\\n",
       "0           A01  020-000-033-111  633790226051820913  27.05.2009 14:03:25:183   \n",
       "1           A01  020-000-032-221  633790226052091205  27.05.2009 14:03:25:210   \n",
       "2           A01  010-000-024-033  633790226052361498  27.05.2009 14:03:25:237   \n",
       "3           A01  010-000-030-096  633790226052631792  27.05.2009 14:03:25:263   \n",
       "4           A01  020-000-033-111  633790226052902087  27.05.2009 14:03:25:290   \n",
       "\n",
       "   tag x coordinate  tag y coordinate  tag z coordinate activity  \n",
       "0          4.291954          1.781140          1.344495  walking  \n",
       "1          4.359101          1.826456          0.968821  walking  \n",
       "2          4.087835          1.879999          0.466983  walking  \n",
       "3          4.324462          2.072460          0.488065  walking  \n",
       "4          4.364077          1.767691          1.299996  walking  "
      ]
     },
     "execution_count": 7,
     "metadata": {},
     "output_type": "execute_result"
    }
   ],
   "source": [
    "df.head()"
   ]
  },
  {
   "cell_type": "markdown",
   "id": "74411e14",
   "metadata": {},
   "source": [
    "Now columns are named correctly\n",
    "\n",
    "### Table content\n",
    "\n",
    "Checking table content for presence of missing values"
   ]
  },
  {
   "cell_type": "code",
   "execution_count": 8,
   "id": "da4d622c",
   "metadata": {},
   "outputs": [
    {
     "name": "stdout",
     "output_type": "stream",
     "text": [
      "<class 'pandas.core.frame.DataFrame'>\n",
      "RangeIndex: 164859 entries, 0 to 164858\n",
      "Data columns (total 8 columns):\n",
      " #   Column            Non-Null Count   Dtype  \n",
      "---  ------            --------------   -----  \n",
      " 0   sequence name     164859 non-null  object \n",
      " 1   tag ID            164859 non-null  object \n",
      " 2   timestamp         164859 non-null  int64  \n",
      " 3   date time         164859 non-null  object \n",
      " 4   tag x coordinate  164859 non-null  float64\n",
      " 5   tag y coordinate  164859 non-null  float64\n",
      " 6   tag z coordinate  164859 non-null  float64\n",
      " 7   activity          164859 non-null  object \n",
      "dtypes: float64(3), int64(1), object(4)\n",
      "memory usage: 10.1+ MB\n"
     ]
    }
   ],
   "source": [
    "df.info()"
   ]
  },
  {
   "cell_type": "markdown",
   "id": "882d868f",
   "metadata": {},
   "source": [
    "### Description\n",
    "\n",
    "Basic statistical analysis of each attribute (column)"
   ]
  },
  {
   "cell_type": "code",
   "execution_count": 9,
   "id": "28954aa8",
   "metadata": {},
   "outputs": [
    {
     "data": {
      "text/html": [
       "<div>\n",
       "<style scoped>\n",
       "    .dataframe tbody tr th:only-of-type {\n",
       "        vertical-align: middle;\n",
       "    }\n",
       "\n",
       "    .dataframe tbody tr th {\n",
       "        vertical-align: top;\n",
       "    }\n",
       "\n",
       "    .dataframe thead th {\n",
       "        text-align: right;\n",
       "    }\n",
       "</style>\n",
       "<table border=\"1\" class=\"dataframe\">\n",
       "  <thead>\n",
       "    <tr style=\"text-align: right;\">\n",
       "      <th></th>\n",
       "      <th>count</th>\n",
       "      <th>unique</th>\n",
       "      <th>top</th>\n",
       "      <th>freq</th>\n",
       "      <th>mean</th>\n",
       "      <th>std</th>\n",
       "      <th>min</th>\n",
       "      <th>25%</th>\n",
       "      <th>50%</th>\n",
       "      <th>75%</th>\n",
       "      <th>max</th>\n",
       "    </tr>\n",
       "  </thead>\n",
       "  <tbody>\n",
       "    <tr>\n",
       "      <th>sequence name</th>\n",
       "      <td>164859</td>\n",
       "      <td>25</td>\n",
       "      <td>E03</td>\n",
       "      <td>9112</td>\n",
       "      <td>NaN</td>\n",
       "      <td>NaN</td>\n",
       "      <td>NaN</td>\n",
       "      <td>NaN</td>\n",
       "      <td>NaN</td>\n",
       "      <td>NaN</td>\n",
       "      <td>NaN</td>\n",
       "    </tr>\n",
       "    <tr>\n",
       "      <th>tag ID</th>\n",
       "      <td>164859</td>\n",
       "      <td>4</td>\n",
       "      <td>010-000-024-033</td>\n",
       "      <td>43525</td>\n",
       "      <td>NaN</td>\n",
       "      <td>NaN</td>\n",
       "      <td>NaN</td>\n",
       "      <td>NaN</td>\n",
       "      <td>NaN</td>\n",
       "      <td>NaN</td>\n",
       "      <td>NaN</td>\n",
       "    </tr>\n",
       "    <tr>\n",
       "      <th>timestamp</th>\n",
       "      <td>164859.0</td>\n",
       "      <td>NaN</td>\n",
       "      <td>NaN</td>\n",
       "      <td>NaN</td>\n",
       "      <td>633790197048715904.0</td>\n",
       "      <td>55181509430.072716</td>\n",
       "      <td>633790118990010880.0</td>\n",
       "      <td>633790145609749120.0</td>\n",
       "      <td>633790203190701312.0</td>\n",
       "      <td>633790237908618880.0</td>\n",
       "      <td>633790291874801792.0</td>\n",
       "    </tr>\n",
       "    <tr>\n",
       "      <th>date time</th>\n",
       "      <td>164859</td>\n",
       "      <td>164833</td>\n",
       "      <td>27.05.2009 12:09:03:780</td>\n",
       "      <td>4</td>\n",
       "      <td>NaN</td>\n",
       "      <td>NaN</td>\n",
       "      <td>NaN</td>\n",
       "      <td>NaN</td>\n",
       "      <td>NaN</td>\n",
       "      <td>NaN</td>\n",
       "      <td>NaN</td>\n",
       "    </tr>\n",
       "    <tr>\n",
       "      <th>tag x coordinate</th>\n",
       "      <td>164859.0</td>\n",
       "      <td>NaN</td>\n",
       "      <td>NaN</td>\n",
       "      <td>NaN</td>\n",
       "      <td>2.81134</td>\n",
       "      <td>0.916224</td>\n",
       "      <td>-0.278698</td>\n",
       "      <td>2.15576</td>\n",
       "      <td>2.880421</td>\n",
       "      <td>3.414092</td>\n",
       "      <td>5.758173</td>\n",
       "    </tr>\n",
       "    <tr>\n",
       "      <th>tag y coordinate</th>\n",
       "      <td>164859.0</td>\n",
       "      <td>NaN</td>\n",
       "      <td>NaN</td>\n",
       "      <td>NaN</td>\n",
       "      <td>1.696876</td>\n",
       "      <td>0.47377</td>\n",
       "      <td>-0.494428</td>\n",
       "      <td>1.3505</td>\n",
       "      <td>1.634168</td>\n",
       "      <td>2.039324</td>\n",
       "      <td>3.978097</td>\n",
       "    </tr>\n",
       "    <tr>\n",
       "      <th>tag z coordinate</th>\n",
       "      <td>164859.0</td>\n",
       "      <td>NaN</td>\n",
       "      <td>NaN</td>\n",
       "      <td>NaN</td>\n",
       "      <td>0.41821</td>\n",
       "      <td>0.379126</td>\n",
       "      <td>-2.543609</td>\n",
       "      <td>0.171623</td>\n",
       "      <td>0.366284</td>\n",
       "      <td>0.613118</td>\n",
       "      <td>2.606105</td>\n",
       "    </tr>\n",
       "    <tr>\n",
       "      <th>activity</th>\n",
       "      <td>164859</td>\n",
       "      <td>11</td>\n",
       "      <td>lying</td>\n",
       "      <td>54480</td>\n",
       "      <td>NaN</td>\n",
       "      <td>NaN</td>\n",
       "      <td>NaN</td>\n",
       "      <td>NaN</td>\n",
       "      <td>NaN</td>\n",
       "      <td>NaN</td>\n",
       "      <td>NaN</td>\n",
       "    </tr>\n",
       "  </tbody>\n",
       "</table>\n",
       "</div>"
      ],
      "text/plain": [
       "                     count  unique                      top   freq  \\\n",
       "sequence name       164859      25                      E03   9112   \n",
       "tag ID              164859       4          010-000-024-033  43525   \n",
       "timestamp         164859.0     NaN                      NaN    NaN   \n",
       "date time           164859  164833  27.05.2009 12:09:03:780      4   \n",
       "tag x coordinate  164859.0     NaN                      NaN    NaN   \n",
       "tag y coordinate  164859.0     NaN                      NaN    NaN   \n",
       "tag z coordinate  164859.0     NaN                      NaN    NaN   \n",
       "activity            164859      11                    lying  54480   \n",
       "\n",
       "                                  mean                 std  \\\n",
       "sequence name                      NaN                 NaN   \n",
       "tag ID                             NaN                 NaN   \n",
       "timestamp         633790197048715904.0  55181509430.072716   \n",
       "date time                          NaN                 NaN   \n",
       "tag x coordinate               2.81134            0.916224   \n",
       "tag y coordinate              1.696876             0.47377   \n",
       "tag z coordinate               0.41821            0.379126   \n",
       "activity                           NaN                 NaN   \n",
       "\n",
       "                                   min                   25%  \\\n",
       "sequence name                      NaN                   NaN   \n",
       "tag ID                             NaN                   NaN   \n",
       "timestamp         633790118990010880.0  633790145609749120.0   \n",
       "date time                          NaN                   NaN   \n",
       "tag x coordinate             -0.278698               2.15576   \n",
       "tag y coordinate             -0.494428                1.3505   \n",
       "tag z coordinate             -2.543609              0.171623   \n",
       "activity                           NaN                   NaN   \n",
       "\n",
       "                                   50%                   75%  \\\n",
       "sequence name                      NaN                   NaN   \n",
       "tag ID                             NaN                   NaN   \n",
       "timestamp         633790203190701312.0  633790237908618880.0   \n",
       "date time                          NaN                   NaN   \n",
       "tag x coordinate              2.880421              3.414092   \n",
       "tag y coordinate              1.634168              2.039324   \n",
       "tag z coordinate              0.366284              0.613118   \n",
       "activity                           NaN                   NaN   \n",
       "\n",
       "                                   max  \n",
       "sequence name                      NaN  \n",
       "tag ID                             NaN  \n",
       "timestamp         633790291874801792.0  \n",
       "date time                          NaN  \n",
       "tag x coordinate              5.758173  \n",
       "tag y coordinate              3.978097  \n",
       "tag z coordinate              2.606105  \n",
       "activity                           NaN  "
      ]
     },
     "execution_count": 9,
     "metadata": {},
     "output_type": "execute_result"
    }
   ],
   "source": [
    "df.describe(include='all').T"
   ]
  },
  {
   "cell_type": "markdown",
   "id": "f8c9b4ca",
   "metadata": {},
   "source": [
    "### Categorical values \n",
    "\n",
    "Counting unique values of categorical variables"
   ]
  },
  {
   "cell_type": "code",
   "execution_count": 10,
   "id": "bf9db4f7",
   "metadata": {},
   "outputs": [
    {
     "name": "stdout",
     "output_type": "stream",
     "text": [
      "name of column - sequence name\n",
      "number of unique values - 25\n",
      "unique values - ['A01' 'A02' 'A03' 'A04' 'A05' 'B01' 'B02' 'B03' 'B04' 'B05' 'C01' 'C02'\n",
      " 'C03' 'C04' 'C05' 'D01' 'D02' 'D03' 'D04' 'D05' 'E01' 'E02' 'E03' 'E04'\n",
      " 'E05']\n",
      "******************************\n",
      "\n",
      "name of column - tag ID\n",
      "number of unique values - 4\n",
      "unique values - ['020-000-033-111' '020-000-032-221' '010-000-024-033' '010-000-030-096']\n",
      "******************************\n",
      "\n",
      "name of column - activity\n",
      "number of unique values - 11\n",
      "unique values - ['walking' 'sitting down' 'sitting' 'standing up from sitting' 'falling'\n",
      " 'lying' 'standing up from lying' 'lying down' 'sitting on the ground'\n",
      " 'standing up from sitting on the ground' 'on all fours']\n",
      "******************************\n",
      "\n"
     ]
    }
   ],
   "source": [
    "categorical_values = df.select_dtypes(include='object').columns.to_list()\n",
    "categorical_values.remove(\"date time\") \n",
    "for i in categorical_values:\n",
    "    print(\"name of column - {}\".format(i))\n",
    "    print(\"number of unique values -\", df[i].nunique())\n",
    "    print(\"unique values -\", df[i].unique()) \n",
    "    print('*'*30)\n",
    "    print()"
   ]
  },
  {
   "cell_type": "markdown",
   "id": "a251a977",
   "metadata": {},
   "source": [
    "According to the calculations there are: \n",
    "\n",
    "+ 4 unique tags - chest (020-000-033-111), belt (020-000-032-221), right (010-000-030-096) and left (010-000-024-033) ankle;\n",
    "+ 11 activities - walking, falling, lying down, lying, sitting down, sitting, standing up from lying, on all fours, sitting on the ground, standing up from sitting, standing up from sitting on the ground;\n",
    "+ 25 sequence names - 5 five scenarios for each of the 5 people: A, B, C, D and E;\n",
    "\n",
    "which corresponds to the *dataset_description.txt*"
   ]
  },
  {
   "cell_type": "markdown",
   "id": "87c0e1d8",
   "metadata": {},
   "source": [
    "### Boxplots\n",
    "\n",
    "Now to visualize ***how well*** data is distributed we plot *boxplots* for each numeric value: \n",
    "\n",
    "+ timestamp\n",
    "+ tag x coordinate\n",
    "+ tag y coordinate\n",
    "+ tag z coordinate"
   ]
  },
  {
   "cell_type": "code",
   "execution_count": 11,
   "id": "78d217a9",
   "metadata": {},
   "outputs": [
    {
     "name": "stderr",
     "output_type": "stream",
     "text": [
      "C:\\Users\\semam\\anaconda3\\lib\\site-packages\\seaborn\\_decorators.py:36: FutureWarning: Pass the following variable as a keyword arg: x. From version 0.12, the only valid positional argument will be `data`, and passing other arguments without an explicit keyword will result in an error or misinterpretation.\n",
      "  warnings.warn(\n"
     ]
    },
    {
     "data": {
      "image/png": "[encoded data removed]",
      "text/plain": [
       "<Figure size 432x288 with 1 Axes>"
      ]
     },
     "metadata": {
      "needs_background": "light"
     },
     "output_type": "display_data"
    },
    {
     "name": "stderr",
     "output_type": "stream",
     "text": [
      "C:\\Users\\semam\\anaconda3\\lib\\site-packages\\seaborn\\_decorators.py:36: FutureWarning: Pass the following variable as a keyword arg: x. From version 0.12, the only valid positional argument will be `data`, and passing other arguments without an explicit keyword will result in an error or misinterpretation.\n",
      "  warnings.warn(\n"
     ]
    },
    {
     "data": {
      "image/png": "[encoded data removed]",
      "text/plain": [
       "<Figure size 432x288 with 1 Axes>"
      ]
     },
     "metadata": {
      "needs_background": "light"
     },
     "output_type": "display_data"
    },
    {
     "name": "stderr",
     "output_type": "stream",
     "text": [
      "C:\\Users\\semam\\anaconda3\\lib\\site-packages\\seaborn\\_decorators.py:36: FutureWarning: Pass the following variable as a keyword arg: x. From version 0.12, the only valid positional argument will be `data`, and passing other arguments without an explicit keyword will result in an error or misinterpretation.\n",
      "  warnings.warn(\n"
     ]
    },
    {
     "data": {
      "image/png": "[encoded data removed]",
      "text/plain": [
       "<Figure size 432x288 with 1 Axes>"
      ]
     },
     "metadata": {
      "needs_background": "light"
     },
     "output_type": "display_data"
    },
    {
     "name": "stderr",
     "output_type": "stream",
     "text": [
      "C:\\Users\\semam\\anaconda3\\lib\\site-packages\\seaborn\\_decorators.py:36: FutureWarning: Pass the following variable as a keyword arg: x. From version 0.12, the only valid positional argument will be `data`, and passing other arguments without an explicit keyword will result in an error or misinterpretation.\n",
      "  warnings.warn(\n"
     ]
    },
    {
     "data": {
      "image/png": "[encoded data removed]",
      "text/plain": [
       "<Figure size 432x288 with 1 Axes>"
      ]
     },
     "metadata": {
      "needs_background": "light"
     },
     "output_type": "display_data"
    }
   ],
   "source": [
    "for i in df.select_dtypes(include=['int64', 'float64']):\n",
    "    sns.boxplot(df[i]) \n",
    "    plt.show()"
   ]
  },
  {
   "cell_type": "markdown",
   "id": "56dc4dbd",
   "metadata": {},
   "source": [
    "Obtained graphs show that tags' coordinates distributied so that they have many outliers. Especially 'z' coordinate"
   ]
  },
  {
   "cell_type": "markdown",
   "id": "3d5aaf8b",
   "metadata": {},
   "source": [
    "### Distribution plots\n",
    "\n",
    "Now to visualize ***how*** data is distributed we plot *distribution plots* for each numeric value: \n",
    "\n",
    "+ timestamp\n",
    "+ tag x coordinate\n",
    "+ tag y coordinate\n",
    "+ tag z coordinate"
   ]
  },
  {
   "cell_type": "code",
   "execution_count": 12,
   "id": "4ed9a5a3",
   "metadata": {},
   "outputs": [
    {
     "name": "stderr",
     "output_type": "stream",
     "text": [
      "C:\\Users\\semam\\anaconda3\\lib\\site-packages\\seaborn\\distributions.py:2619: FutureWarning: `distplot` is a deprecated function and will be removed in a future version. Please adapt your code to use either `displot` (a figure-level function with similar flexibility) or `histplot` (an axes-level function for histograms).\n",
      "  warnings.warn(msg, FutureWarning)\n"
     ]
    },
    {
     "data": {
      "image/png": "[encoded data removed]",
      "text/plain": [
       "<Figure size 432x288 with 1 Axes>"
      ]
     },
     "metadata": {
      "needs_background": "light"
     },
     "output_type": "display_data"
    },
    {
     "name": "stderr",
     "output_type": "stream",
     "text": [
      "C:\\Users\\semam\\anaconda3\\lib\\site-packages\\seaborn\\distributions.py:2619: FutureWarning: `distplot` is a deprecated function and will be removed in a future version. Please adapt your code to use either `displot` (a figure-level function with similar flexibility) or `histplot` (an axes-level function for histograms).\n",
      "  warnings.warn(msg, FutureWarning)\n"
     ]
    },
    {
     "data": {
      "image/png": "[encoded data removed]",
      "text/plain": [
       "<Figure size 432x288 with 1 Axes>"
      ]
     },
     "metadata": {
      "needs_background": "light"
     },
     "output_type": "display_data"
    },
    {
     "name": "stderr",
     "output_type": "stream",
     "text": [
      "C:\\Users\\semam\\anaconda3\\lib\\site-packages\\seaborn\\distributions.py:2619: FutureWarning: `distplot` is a deprecated function and will be removed in a future version. Please adapt your code to use either `displot` (a figure-level function with similar flexibility) or `histplot` (an axes-level function for histograms).\n",
      "  warnings.warn(msg, FutureWarning)\n"
     ]
    },
    {
     "data": {
      "image/png": "[encoded data removed]",
      "text/plain": [
       "<Figure size 432x288 with 1 Axes>"
      ]
     },
     "metadata": {
      "needs_background": "light"
     },
     "output_type": "display_data"
    },
    {
     "name": "stderr",
     "output_type": "stream",
     "text": [
      "C:\\Users\\semam\\anaconda3\\lib\\site-packages\\seaborn\\distributions.py:2619: FutureWarning: `distplot` is a deprecated function and will be removed in a future version. Please adapt your code to use either `displot` (a figure-level function with similar flexibility) or `histplot` (an axes-level function for histograms).\n",
      "  warnings.warn(msg, FutureWarning)\n"
     ]
    },
    {
     "data": {
      "image/png": "[encoded data removed]",
      "text/plain": [
       "<Figure size 432x288 with 1 Axes>"
      ]
     },
     "metadata": {
      "needs_background": "light"
     },
     "output_type": "display_data"
    }
   ],
   "source": [
    "for i in df.select_dtypes(include=['int64', 'float64']):\n",
    "    sns.distplot(df[i]) # Distribution plot to check how data is distributed\n",
    "    plt.show()"
   ]
  },
  {
   "cell_type": "markdown",
   "id": "09757e0a",
   "metadata": {},
   "source": [
    "Obtained graphs show that tags' coordinates distributed so that they follow the normal distribution law, because on the graph they are plotted as Gaussian bell curve"
   ]
  },
  {
   "cell_type": "markdown",
   "id": "5b82aa53",
   "metadata": {},
   "source": [
    "### Encoding categorical values\n",
    "\n",
    "For forthcoming analysis of correlations and in order to successfully build classification models all categorical values should be properly encoded to numeric.\n",
    "\n",
    "Target class values are encoded in alphabetical order\n"
   ]
  },
  {
   "cell_type": "code",
   "execution_count": 13,
   "id": "c72e246f",
   "metadata": {},
   "outputs": [],
   "source": [
    "def categorical_to_numeric(df):\n",
    "\n",
    "    from sklearn.preprocessing import LabelEncoder\n",
    "\n",
    "    sequencename_encoder =  LabelEncoder()\n",
    "    tagID_encoder = LabelEncoder()\n",
    "    activity_encoder = LabelEncoder()\n",
    "\n",
    "    df['sequence name'] = sequencename_encoder.fit_transform(df['sequence name'])\n",
    "    df['tag ID'] = tagID_encoder.fit_transform(df['tag ID'])\n",
    "    df['activity'] = activity_encoder.fit_transform(df['activity'])\n",
    "    \n",
    "    return \"categorical values encoded successfully\""
   ]
  },
  {
   "cell_type": "markdown",
   "id": "2b2efac1",
   "metadata": {},
   "source": [
    "### Feature Engineering\n",
    "\n",
    "Splitting the *date time* column to pieces so there wil be year, month, day, hour, minute, second and millisecond"
   ]
  },
  {
   "cell_type": "code",
   "execution_count": 14,
   "id": "14f0d9a0",
   "metadata": {},
   "outputs": [],
   "source": [
    "def split_datetime_column(df):\n",
    "    from datetime import datetime as dt \n",
    "    \n",
    "    df['date time'] = pd.to_datetime(df['date time'], format=\"%d.%m.%Y %H:%M:%S:%f\")\n",
    "    \n",
    "    df['year'] = df['date time'].dt.year\n",
    "    df['month'] = df['date time'].dt.month\n",
    "    df['day'] = df['date time'].dt.day\n",
    "    df['hour'] = df['date time'].dt.hour\n",
    "    df['minute'] = df['date time'].dt.minute\n",
    "    df['second'] = df['date time'].dt.second\n",
    "    df['millisecond'] = df['date time'].dt.microsecond\n",
    "    \n",
    "    del df['date time'] \n",
    "    \n",
    "    return 'column date time splitted successfully'"
   ]
  },
  {
   "cell_type": "code",
   "execution_count": 15,
   "id": "5e104b5c",
   "metadata": {},
   "outputs": [
    {
     "data": {
      "text/plain": [
       "'categorical values encoded successfully'"
      ]
     },
     "execution_count": 15,
     "metadata": {},
     "output_type": "execute_result"
    }
   ],
   "source": [
    "categorical_to_numeric(df)"
   ]
  },
  {
   "cell_type": "markdown",
   "id": "266e5c2d",
   "metadata": {},
   "source": [
    "Table with encoded categorical values looks as follows:"
   ]
  },
  {
   "cell_type": "code",
   "execution_count": 16,
   "id": "28bf6ec2",
   "metadata": {},
   "outputs": [
    {
     "data": {
      "text/html": [
       "<div>\n",
       "<style scoped>\n",
       "    .dataframe tbody tr th:only-of-type {\n",
       "        vertical-align: middle;\n",
       "    }\n",
       "\n",
       "    .dataframe tbody tr th {\n",
       "        vertical-align: top;\n",
       "    }\n",
       "\n",
       "    .dataframe thead th {\n",
       "        text-align: right;\n",
       "    }\n",
       "</style>\n",
       "<table border=\"1\" class=\"dataframe\">\n",
       "  <thead>\n",
       "    <tr style=\"text-align: right;\">\n",
       "      <th></th>\n",
       "      <th>sequence name</th>\n",
       "      <th>tag ID</th>\n",
       "      <th>timestamp</th>\n",
       "      <th>date time</th>\n",
       "      <th>tag x coordinate</th>\n",
       "      <th>tag y coordinate</th>\n",
       "      <th>tag z coordinate</th>\n",
       "      <th>activity</th>\n",
       "    </tr>\n",
       "  </thead>\n",
       "  <tbody>\n",
       "    <tr>\n",
       "      <th>0</th>\n",
       "      <td>0</td>\n",
       "      <td>3</td>\n",
       "      <td>633790226051820913</td>\n",
       "      <td>27.05.2009 14:03:25:183</td>\n",
       "      <td>4.291954</td>\n",
       "      <td>1.781140</td>\n",
       "      <td>1.344495</td>\n",
       "      <td>10</td>\n",
       "    </tr>\n",
       "    <tr>\n",
       "      <th>1</th>\n",
       "      <td>0</td>\n",
       "      <td>2</td>\n",
       "      <td>633790226052091205</td>\n",
       "      <td>27.05.2009 14:03:25:210</td>\n",
       "      <td>4.359101</td>\n",
       "      <td>1.826456</td>\n",
       "      <td>0.968821</td>\n",
       "      <td>10</td>\n",
       "    </tr>\n",
       "    <tr>\n",
       "      <th>2</th>\n",
       "      <td>0</td>\n",
       "      <td>0</td>\n",
       "      <td>633790226052361498</td>\n",
       "      <td>27.05.2009 14:03:25:237</td>\n",
       "      <td>4.087835</td>\n",
       "      <td>1.879999</td>\n",
       "      <td>0.466983</td>\n",
       "      <td>10</td>\n",
       "    </tr>\n",
       "    <tr>\n",
       "      <th>3</th>\n",
       "      <td>0</td>\n",
       "      <td>1</td>\n",
       "      <td>633790226052631792</td>\n",
       "      <td>27.05.2009 14:03:25:263</td>\n",
       "      <td>4.324462</td>\n",
       "      <td>2.072460</td>\n",
       "      <td>0.488065</td>\n",
       "      <td>10</td>\n",
       "    </tr>\n",
       "    <tr>\n",
       "      <th>4</th>\n",
       "      <td>0</td>\n",
       "      <td>3</td>\n",
       "      <td>633790226052902087</td>\n",
       "      <td>27.05.2009 14:03:25:290</td>\n",
       "      <td>4.364077</td>\n",
       "      <td>1.767691</td>\n",
       "      <td>1.299996</td>\n",
       "      <td>10</td>\n",
       "    </tr>\n",
       "  </tbody>\n",
       "</table>\n",
       "</div>"
      ],
      "text/plain": [
       "   sequence name  tag ID           timestamp                date time  \\\n",
       "0              0       3  633790226051820913  27.05.2009 14:03:25:183   \n",
       "1              0       2  633790226052091205  27.05.2009 14:03:25:210   \n",
       "2              0       0  633790226052361498  27.05.2009 14:03:25:237   \n",
       "3              0       1  633790226052631792  27.05.2009 14:03:25:263   \n",
       "4              0       3  633790226052902087  27.05.2009 14:03:25:290   \n",
       "\n",
       "   tag x coordinate  tag y coordinate  tag z coordinate  activity  \n",
       "0          4.291954          1.781140          1.344495        10  \n",
       "1          4.359101          1.826456          0.968821        10  \n",
       "2          4.087835          1.879999          0.466983        10  \n",
       "3          4.324462          2.072460          0.488065        10  \n",
       "4          4.364077          1.767691          1.299996        10  "
      ]
     },
     "execution_count": 16,
     "metadata": {},
     "output_type": "execute_result"
    }
   ],
   "source": [
    "df.head()"
   ]
  },
  {
   "cell_type": "code",
   "execution_count": 17,
   "id": "769e5c38",
   "metadata": {},
   "outputs": [
    {
     "data": {
      "text/plain": [
       "'column date time splitted successfully'"
      ]
     },
     "execution_count": 17,
     "metadata": {},
     "output_type": "execute_result"
    }
   ],
   "source": [
    "split_datetime_column(df)"
   ]
  },
  {
   "cell_type": "markdown",
   "id": "201ab2c3",
   "metadata": {},
   "source": [
    "This is how DataFrame with splitted datetime looks."
   ]
  },
  {
   "cell_type": "code",
   "execution_count": 18,
   "id": "a6879d36",
   "metadata": {},
   "outputs": [
    {
     "data": {
      "text/html": [
       "<div>\n",
       "<style scoped>\n",
       "    .dataframe tbody tr th:only-of-type {\n",
       "        vertical-align: middle;\n",
       "    }\n",
       "\n",
       "    .dataframe tbody tr th {\n",
       "        vertical-align: top;\n",
       "    }\n",
       "\n",
       "    .dataframe thead th {\n",
       "        text-align: right;\n",
       "    }\n",
       "</style>\n",
       "<table border=\"1\" class=\"dataframe\">\n",
       "  <thead>\n",
       "    <tr style=\"text-align: right;\">\n",
       "      <th></th>\n",
       "      <th>sequence name</th>\n",
       "      <th>tag ID</th>\n",
       "      <th>timestamp</th>\n",
       "      <th>tag x coordinate</th>\n",
       "      <th>tag y coordinate</th>\n",
       "      <th>tag z coordinate</th>\n",
       "      <th>activity</th>\n",
       "      <th>year</th>\n",
       "      <th>month</th>\n",
       "      <th>day</th>\n",
       "      <th>hour</th>\n",
       "      <th>minute</th>\n",
       "      <th>second</th>\n",
       "      <th>millisecond</th>\n",
       "    </tr>\n",
       "  </thead>\n",
       "  <tbody>\n",
       "    <tr>\n",
       "      <th>0</th>\n",
       "      <td>0</td>\n",
       "      <td>3</td>\n",
       "      <td>633790226051820913</td>\n",
       "      <td>4.291954</td>\n",
       "      <td>1.781140</td>\n",
       "      <td>1.344495</td>\n",
       "      <td>10</td>\n",
       "      <td>2009</td>\n",
       "      <td>5</td>\n",
       "      <td>27</td>\n",
       "      <td>14</td>\n",
       "      <td>3</td>\n",
       "      <td>25</td>\n",
       "      <td>183000</td>\n",
       "    </tr>\n",
       "    <tr>\n",
       "      <th>1</th>\n",
       "      <td>0</td>\n",
       "      <td>2</td>\n",
       "      <td>633790226052091205</td>\n",
       "      <td>4.359101</td>\n",
       "      <td>1.826456</td>\n",
       "      <td>0.968821</td>\n",
       "      <td>10</td>\n",
       "      <td>2009</td>\n",
       "      <td>5</td>\n",
       "      <td>27</td>\n",
       "      <td>14</td>\n",
       "      <td>3</td>\n",
       "      <td>25</td>\n",
       "      <td>210000</td>\n",
       "    </tr>\n",
       "    <tr>\n",
       "      <th>2</th>\n",
       "      <td>0</td>\n",
       "      <td>0</td>\n",
       "      <td>633790226052361498</td>\n",
       "      <td>4.087835</td>\n",
       "      <td>1.879999</td>\n",
       "      <td>0.466983</td>\n",
       "      <td>10</td>\n",
       "      <td>2009</td>\n",
       "      <td>5</td>\n",
       "      <td>27</td>\n",
       "      <td>14</td>\n",
       "      <td>3</td>\n",
       "      <td>25</td>\n",
       "      <td>237000</td>\n",
       "    </tr>\n",
       "    <tr>\n",
       "      <th>3</th>\n",
       "      <td>0</td>\n",
       "      <td>1</td>\n",
       "      <td>633790226052631792</td>\n",
       "      <td>4.324462</td>\n",
       "      <td>2.072460</td>\n",
       "      <td>0.488065</td>\n",
       "      <td>10</td>\n",
       "      <td>2009</td>\n",
       "      <td>5</td>\n",
       "      <td>27</td>\n",
       "      <td>14</td>\n",
       "      <td>3</td>\n",
       "      <td>25</td>\n",
       "      <td>263000</td>\n",
       "    </tr>\n",
       "    <tr>\n",
       "      <th>4</th>\n",
       "      <td>0</td>\n",
       "      <td>3</td>\n",
       "      <td>633790226052902087</td>\n",
       "      <td>4.364077</td>\n",
       "      <td>1.767691</td>\n",
       "      <td>1.299996</td>\n",
       "      <td>10</td>\n",
       "      <td>2009</td>\n",
       "      <td>5</td>\n",
       "      <td>27</td>\n",
       "      <td>14</td>\n",
       "      <td>3</td>\n",
       "      <td>25</td>\n",
       "      <td>290000</td>\n",
       "    </tr>\n",
       "  </tbody>\n",
       "</table>\n",
       "</div>"
      ],
      "text/plain": [
       "   sequence name  tag ID           timestamp  tag x coordinate  \\\n",
       "0              0       3  633790226051820913          4.291954   \n",
       "1              0       2  633790226052091205          4.359101   \n",
       "2              0       0  633790226052361498          4.087835   \n",
       "3              0       1  633790226052631792          4.324462   \n",
       "4              0       3  633790226052902087          4.364077   \n",
       "\n",
       "   tag y coordinate  tag z coordinate  activity  year  month  day  hour  \\\n",
       "0          1.781140          1.344495        10  2009      5   27    14   \n",
       "1          1.826456          0.968821        10  2009      5   27    14   \n",
       "2          1.879999          0.466983        10  2009      5   27    14   \n",
       "3          2.072460          0.488065        10  2009      5   27    14   \n",
       "4          1.767691          1.299996        10  2009      5   27    14   \n",
       "\n",
       "   minute  second  millisecond  \n",
       "0       3      25       183000  \n",
       "1       3      25       210000  \n",
       "2       3      25       237000  \n",
       "3       3      25       263000  \n",
       "4       3      25       290000  "
      ]
     },
     "execution_count": 18,
     "metadata": {},
     "output_type": "execute_result"
    }
   ],
   "source": [
    "df.head()"
   ]
  },
  {
   "cell_type": "markdown",
   "id": "ce5a6b8f",
   "metadata": {},
   "source": [
    "### Finding correlations\n",
    "\n",
    "Use heatmap to find correlations between atributes"
   ]
  },
  {
   "cell_type": "code",
   "execution_count": 19,
   "id": "0fda099a",
   "metadata": {},
   "outputs": [
    {
     "data": {
      "image/png": "[encoded data removed]",
      "text/plain": [
       "<Figure size 1152x864 with 2 Axes>"
      ]
     },
     "metadata": {
      "needs_background": "light"
     },
     "output_type": "display_data"
    }
   ],
   "source": [
    "corr = df.corr()\n",
    "\n",
    "plt.figure(figsize=(16,12))\n",
    "sns.heatmap(corr, annot=True, cmap='viridis')\n",
    "plt.title(\"Features Correlation Heatmap\")\n",
    "plt.show()"
   ]
  },
  {
   "cell_type": "markdown",
   "id": "264a39b1",
   "metadata": {},
   "source": [
    "It is seen from the heatmap that varibles year, month and day are not correlated with each other. It is also seen from the following table."
   ]
  },
  {
   "cell_type": "code",
   "execution_count": 20,
   "id": "bdbd772b",
   "metadata": {},
   "outputs": [
    {
     "data": {
      "text/html": [
       "<div>\n",
       "<style scoped>\n",
       "    .dataframe tbody tr th:only-of-type {\n",
       "        vertical-align: middle;\n",
       "    }\n",
       "\n",
       "    .dataframe tbody tr th {\n",
       "        vertical-align: top;\n",
       "    }\n",
       "\n",
       "    .dataframe thead th {\n",
       "        text-align: right;\n",
       "    }\n",
       "</style>\n",
       "<table border=\"1\" class=\"dataframe\">\n",
       "  <thead>\n",
       "    <tr style=\"text-align: right;\">\n",
       "      <th></th>\n",
       "      <th>count</th>\n",
       "      <th>mean</th>\n",
       "      <th>std</th>\n",
       "      <th>min</th>\n",
       "      <th>25%</th>\n",
       "      <th>50%</th>\n",
       "      <th>75%</th>\n",
       "      <th>max</th>\n",
       "    </tr>\n",
       "  </thead>\n",
       "  <tbody>\n",
       "    <tr>\n",
       "      <th>sequence name</th>\n",
       "      <td>164859.0</td>\n",
       "      <td>1.299945e+01</td>\n",
       "      <td>7.326742e+00</td>\n",
       "      <td>0.000000e+00</td>\n",
       "      <td>7.000000e+00</td>\n",
       "      <td>1.300000e+01</td>\n",
       "      <td>2.000000e+01</td>\n",
       "      <td>2.400000e+01</td>\n",
       "    </tr>\n",
       "    <tr>\n",
       "      <th>tag ID</th>\n",
       "      <td>164859.0</td>\n",
       "      <td>1.430974e+00</td>\n",
       "      <td>1.098905e+00</td>\n",
       "      <td>0.000000e+00</td>\n",
       "      <td>0.000000e+00</td>\n",
       "      <td>1.000000e+00</td>\n",
       "      <td>2.000000e+00</td>\n",
       "      <td>3.000000e+00</td>\n",
       "    </tr>\n",
       "    <tr>\n",
       "      <th>timestamp</th>\n",
       "      <td>164859.0</td>\n",
       "      <td>6.337902e+17</td>\n",
       "      <td>5.518151e+10</td>\n",
       "      <td>6.337901e+17</td>\n",
       "      <td>6.337901e+17</td>\n",
       "      <td>6.337902e+17</td>\n",
       "      <td>6.337902e+17</td>\n",
       "      <td>6.337903e+17</td>\n",
       "    </tr>\n",
       "    <tr>\n",
       "      <th>tag x coordinate</th>\n",
       "      <td>164859.0</td>\n",
       "      <td>2.811340e+00</td>\n",
       "      <td>9.162241e-01</td>\n",
       "      <td>-2.786983e-01</td>\n",
       "      <td>2.155760e+00</td>\n",
       "      <td>2.880421e+00</td>\n",
       "      <td>3.414092e+00</td>\n",
       "      <td>5.758173e+00</td>\n",
       "    </tr>\n",
       "    <tr>\n",
       "      <th>tag y coordinate</th>\n",
       "      <td>164859.0</td>\n",
       "      <td>1.696876e+00</td>\n",
       "      <td>4.737703e-01</td>\n",
       "      <td>-4.944278e-01</td>\n",
       "      <td>1.350500e+00</td>\n",
       "      <td>1.634168e+00</td>\n",
       "      <td>2.039324e+00</td>\n",
       "      <td>3.978097e+00</td>\n",
       "    </tr>\n",
       "    <tr>\n",
       "      <th>tag z coordinate</th>\n",
       "      <td>164859.0</td>\n",
       "      <td>4.182099e-01</td>\n",
       "      <td>3.791256e-01</td>\n",
       "      <td>-2.543609e+00</td>\n",
       "      <td>1.716229e-01</td>\n",
       "      <td>3.662842e-01</td>\n",
       "      <td>6.131181e-01</td>\n",
       "      <td>2.606105e+00</td>\n",
       "    </tr>\n",
       "    <tr>\n",
       "      <th>activity</th>\n",
       "      <td>164859.0</td>\n",
       "      <td>4.627730e+00</td>\n",
       "      <td>3.472324e+00</td>\n",
       "      <td>0.000000e+00</td>\n",
       "      <td>1.000000e+00</td>\n",
       "      <td>4.000000e+00</td>\n",
       "      <td>7.000000e+00</td>\n",
       "      <td>1.000000e+01</td>\n",
       "    </tr>\n",
       "    <tr>\n",
       "      <th>year</th>\n",
       "      <td>164859.0</td>\n",
       "      <td>2.009000e+03</td>\n",
       "      <td>0.000000e+00</td>\n",
       "      <td>2.009000e+03</td>\n",
       "      <td>2.009000e+03</td>\n",
       "      <td>2.009000e+03</td>\n",
       "      <td>2.009000e+03</td>\n",
       "      <td>2.009000e+03</td>\n",
       "    </tr>\n",
       "    <tr>\n",
       "      <th>month</th>\n",
       "      <td>164859.0</td>\n",
       "      <td>5.000000e+00</td>\n",
       "      <td>0.000000e+00</td>\n",
       "      <td>5.000000e+00</td>\n",
       "      <td>5.000000e+00</td>\n",
       "      <td>5.000000e+00</td>\n",
       "      <td>5.000000e+00</td>\n",
       "      <td>5.000000e+00</td>\n",
       "    </tr>\n",
       "    <tr>\n",
       "      <th>day</th>\n",
       "      <td>164859.0</td>\n",
       "      <td>2.700000e+01</td>\n",
       "      <td>0.000000e+00</td>\n",
       "      <td>2.700000e+01</td>\n",
       "      <td>2.700000e+01</td>\n",
       "      <td>2.700000e+01</td>\n",
       "      <td>2.700000e+01</td>\n",
       "      <td>2.700000e+01</td>\n",
       "    </tr>\n",
       "    <tr>\n",
       "      <th>hour</th>\n",
       "      <td>164859.0</td>\n",
       "      <td>1.282346e+01</td>\n",
       "      <td>1.470954e+00</td>\n",
       "      <td>1.100000e+01</td>\n",
       "      <td>1.100000e+01</td>\n",
       "      <td>1.300000e+01</td>\n",
       "      <td>1.400000e+01</td>\n",
       "      <td>1.500000e+01</td>\n",
       "    </tr>\n",
       "    <tr>\n",
       "      <th>minute</th>\n",
       "      <td>164859.0</td>\n",
       "      <td>2.517403e+01</td>\n",
       "      <td>1.448488e+01</td>\n",
       "      <td>0.000000e+00</td>\n",
       "      <td>1.200000e+01</td>\n",
       "      <td>2.500000e+01</td>\n",
       "      <td>3.500000e+01</td>\n",
       "      <td>5.900000e+01</td>\n",
       "    </tr>\n",
       "    <tr>\n",
       "      <th>second</th>\n",
       "      <td>164859.0</td>\n",
       "      <td>2.947055e+01</td>\n",
       "      <td>1.730656e+01</td>\n",
       "      <td>0.000000e+00</td>\n",
       "      <td>1.500000e+01</td>\n",
       "      <td>2.900000e+01</td>\n",
       "      <td>4.400000e+01</td>\n",
       "      <td>5.900000e+01</td>\n",
       "    </tr>\n",
       "    <tr>\n",
       "      <th>millisecond</th>\n",
       "      <td>164859.0</td>\n",
       "      <td>4.985503e+05</td>\n",
       "      <td>2.886208e+05</td>\n",
       "      <td>0.000000e+00</td>\n",
       "      <td>2.500000e+05</td>\n",
       "      <td>5.000000e+05</td>\n",
       "      <td>7.500000e+05</td>\n",
       "      <td>9.970000e+05</td>\n",
       "    </tr>\n",
       "  </tbody>\n",
       "</table>\n",
       "</div>"
      ],
      "text/plain": [
       "                     count          mean           std           min  \\\n",
       "sequence name     164859.0  1.299945e+01  7.326742e+00  0.000000e+00   \n",
       "tag ID            164859.0  1.430974e+00  1.098905e+00  0.000000e+00   \n",
       "timestamp         164859.0  6.337902e+17  5.518151e+10  6.337901e+17   \n",
       "tag x coordinate  164859.0  2.811340e+00  9.162241e-01 -2.786983e-01   \n",
       "tag y coordinate  164859.0  1.696876e+00  4.737703e-01 -4.944278e-01   \n",
       "tag z coordinate  164859.0  4.182099e-01  3.791256e-01 -2.543609e+00   \n",
       "activity          164859.0  4.627730e+00  3.472324e+00  0.000000e+00   \n",
       "year              164859.0  2.009000e+03  0.000000e+00  2.009000e+03   \n",
       "month             164859.0  5.000000e+00  0.000000e+00  5.000000e+00   \n",
       "day               164859.0  2.700000e+01  0.000000e+00  2.700000e+01   \n",
       "hour              164859.0  1.282346e+01  1.470954e+00  1.100000e+01   \n",
       "minute            164859.0  2.517403e+01  1.448488e+01  0.000000e+00   \n",
       "second            164859.0  2.947055e+01  1.730656e+01  0.000000e+00   \n",
       "millisecond       164859.0  4.985503e+05  2.886208e+05  0.000000e+00   \n",
       "\n",
       "                           25%           50%           75%           max  \n",
       "sequence name     7.000000e+00  1.300000e+01  2.000000e+01  2.400000e+01  \n",
       "tag ID            0.000000e+00  1.000000e+00  2.000000e+00  3.000000e+00  \n",
       "timestamp         6.337901e+17  6.337902e+17  6.337902e+17  6.337903e+17  \n",
       "tag x coordinate  2.155760e+00  2.880421e+00  3.414092e+00  5.758173e+00  \n",
       "tag y coordinate  1.350500e+00  1.634168e+00  2.039324e+00  3.978097e+00  \n",
       "tag z coordinate  1.716229e-01  3.662842e-01  6.131181e-01  2.606105e+00  \n",
       "activity          1.000000e+00  4.000000e+00  7.000000e+00  1.000000e+01  \n",
       "year              2.009000e+03  2.009000e+03  2.009000e+03  2.009000e+03  \n",
       "month             5.000000e+00  5.000000e+00  5.000000e+00  5.000000e+00  \n",
       "day               2.700000e+01  2.700000e+01  2.700000e+01  2.700000e+01  \n",
       "hour              1.100000e+01  1.300000e+01  1.400000e+01  1.500000e+01  \n",
       "minute            1.200000e+01  2.500000e+01  3.500000e+01  5.900000e+01  \n",
       "second            1.500000e+01  2.900000e+01  4.400000e+01  5.900000e+01  \n",
       "millisecond       2.500000e+05  5.000000e+05  7.500000e+05  9.970000e+05  "
      ]
     },
     "execution_count": 20,
     "metadata": {},
     "output_type": "execute_result"
    }
   ],
   "source": [
    "df.describe(include='all').T"
   ]
  },
  {
   "cell_type": "markdown",
   "id": "c73bae70",
   "metadata": {},
   "source": [
    "### Inspecting the date and time columns"
   ]
  },
  {
   "cell_type": "code",
   "execution_count": 21,
   "id": "646333c5",
   "metadata": {},
   "outputs": [
    {
     "name": "stdout",
     "output_type": "stream",
     "text": [
      "name of column - day\n",
      "number of unique values - 1\n",
      "unique values - [27]\n",
      "******************************\n",
      "\n",
      "name of column - month\n",
      "number of unique values - 1\n",
      "unique values - [5]\n",
      "******************************\n",
      "\n",
      "name of column - year\n",
      "number of unique values - 1\n",
      "unique values - [2009]\n",
      "******************************\n",
      "\n",
      "name of column - hour\n",
      "number of unique values - 5\n",
      "unique values - [14 13 15 11 12]\n",
      "******************************\n",
      "\n",
      "name of column - minute\n",
      "number of unique values - 52\n",
      "unique values - [ 3  4  5  6 10 11 12 13 17 18 19 20 22 23 24 25 29 30 31 32 21 26 27 28\n",
      " 33 34 37 38 39 40 45 46 47 48  7  8  9 35 36 44 49 50 51 52 53 59  0  1\n",
      "  2 14 15 16]\n",
      "******************************\n",
      "\n",
      "name of column - second\n",
      "number of unique values - 60\n",
      "unique values - [25 26 27 28 29 30 31 32 33 34 35 36 37 38 39 40 41 42 43 44 45 46 47 48\n",
      " 49 50 51 52 53 54 55 56 57 58 59  0  1  2  3  4  5  6  7  8  9 10 11 12\n",
      " 13 14 15 16 17 18 19 20 21 22 23 24]\n",
      "******************************\n",
      "\n",
      "name of column - millisecond\n",
      "number of unique values - 300\n",
      "unique values - [183000 210000 237000 263000 290000 317000 343000 397000 453000 480000\n",
      " 507000 533000 560000 640000 670000 697000 723000 750000 777000 857000\n",
      " 883000 913000 940000 993000  47000  73000 100000 127000 157000 370000\n",
      " 400000 427000 587000 613000 643000 830000 967000  20000 803000 887000\n",
      " 130000 373000 617000 860000 103000 347000 590000  77000 833000 320000\n",
      " 563000 807000  50000 293000 537000 780000  67000  93000 120000 147000\n",
      " 177000 203000 230000 283000 310000 337000 363000 390000 420000 447000\n",
      " 500000 527000 553000 580000 607000 633000 663000 717000 743000 770000\n",
      " 797000 823000 850000 877000 933000 960000 987000  13000  40000 257000\n",
      " 473000 690000 907000 150000 393000 637000 880000 367000 123000 610000\n",
      " 853000  97000 340000 583000 827000  70000 303000 330000 357000 413000\n",
      " 440000 493000 520000 547000 573000 600000 627000 657000 710000 763000\n",
      " 790000 817000 843000 870000 927000 953000 980000   7000  33000  60000\n",
      "  87000 143000 170000 197000 223000 250000 277000 383000 467000 683000\n",
      " 113000 387000 737000 900000 630000 873000 117000 360000 847000 603000\n",
      "  90000 333000 577000 820000  63000 307000 550000 793000 300000 327000\n",
      " 353000 380000 407000 437000 463000 490000 517000 570000 597000 623000\n",
      " 650000 680000 707000 733000 787000 813000 840000 867000 893000 923000\n",
      " 950000   3000  30000  57000  83000 110000 137000 220000 247000 273000\n",
      " 543000 760000 903000 930000 957000 983000 173000 200000 227000 417000\n",
      " 443000 470000 660000 687000 713000 653000 897000 977000 140000 167000\n",
      " 193000 410000 267000 483000 510000 727000 753000 997000 970000  23000\n",
      " 213000 240000 457000 700000 943000 513000 540000 593000 620000 647000\n",
      " 673000 757000 810000 837000 863000 890000 917000  27000  53000  80000\n",
      " 107000 133000 160000 187000 270000 297000 323000 350000 403000 567000\n",
      " 783000      0 377000 430000 243000 487000 730000 973000 217000 460000\n",
      " 703000 947000 190000 433000 677000 920000 163000 450000 477000 503000\n",
      " 667000 693000 720000 747000 910000 937000 963000  17000 153000 180000\n",
      " 233000 260000 990000 207000 423000 313000 557000 800000 287000  43000\n",
      " 530000 773000  37000 280000 523000  10000 253000 767000 497000 740000]\n",
      "******************************\n",
      "\n"
     ]
    }
   ],
   "source": [
    "datetime_columns = ['day', 'month', 'year', 'hour', 'minute', 'second', 'millisecond']\n",
    "\n",
    "for i in datetime_columns:\n",
    "    print(\"name of column - {}\".format(i))\n",
    "    print(\"number of unique values -\", df[i].nunique())\n",
    "    print(\"unique values -\", df[i].unique()) \n",
    "    print('*'*30)\n",
    "    print()"
   ]
  },
  {
   "cell_type": "markdown",
   "id": "deacd5ce",
   "metadata": {},
   "source": [
    "Inspection shows that all the measurements were made in the same day May 27 2009, within 5 hours from 11 am 15 pm.\n",
    "\n",
    "It means that columns *day*, *month* and *year* can be dropped without any circumstances."
   ]
  },
  {
   "cell_type": "code",
   "execution_count": 22,
   "id": "6c085b9b",
   "metadata": {},
   "outputs": [],
   "source": [
    "clean_df = df.drop(['day', 'month', 'year'], axis=1)"
   ]
  },
  {
   "cell_type": "code",
   "execution_count": 23,
   "id": "192f08af",
   "metadata": {},
   "outputs": [
    {
     "data": {
      "text/html": [
       "<div>\n",
       "<style scoped>\n",
       "    .dataframe tbody tr th:only-of-type {\n",
       "        vertical-align: middle;\n",
       "    }\n",
       "\n",
       "    .dataframe tbody tr th {\n",
       "        vertical-align: top;\n",
       "    }\n",
       "\n",
       "    .dataframe thead th {\n",
       "        text-align: right;\n",
       "    }\n",
       "</style>\n",
       "<table border=\"1\" class=\"dataframe\">\n",
       "  <thead>\n",
       "    <tr style=\"text-align: right;\">\n",
       "      <th></th>\n",
       "      <th>sequence name</th>\n",
       "      <th>tag ID</th>\n",
       "      <th>timestamp</th>\n",
       "      <th>tag x coordinate</th>\n",
       "      <th>tag y coordinate</th>\n",
       "      <th>tag z coordinate</th>\n",
       "      <th>activity</th>\n",
       "      <th>hour</th>\n",
       "      <th>minute</th>\n",
       "      <th>second</th>\n",
       "      <th>millisecond</th>\n",
       "    </tr>\n",
       "  </thead>\n",
       "  <tbody>\n",
       "    <tr>\n",
       "      <th>0</th>\n",
       "      <td>0</td>\n",
       "      <td>3</td>\n",
       "      <td>633790226051820913</td>\n",
       "      <td>4.291954</td>\n",
       "      <td>1.781140</td>\n",
       "      <td>1.344495</td>\n",
       "      <td>10</td>\n",
       "      <td>14</td>\n",
       "      <td>3</td>\n",
       "      <td>25</td>\n",
       "      <td>183000</td>\n",
       "    </tr>\n",
       "    <tr>\n",
       "      <th>1</th>\n",
       "      <td>0</td>\n",
       "      <td>2</td>\n",
       "      <td>633790226052091205</td>\n",
       "      <td>4.359101</td>\n",
       "      <td>1.826456</td>\n",
       "      <td>0.968821</td>\n",
       "      <td>10</td>\n",
       "      <td>14</td>\n",
       "      <td>3</td>\n",
       "      <td>25</td>\n",
       "      <td>210000</td>\n",
       "    </tr>\n",
       "    <tr>\n",
       "      <th>2</th>\n",
       "      <td>0</td>\n",
       "      <td>0</td>\n",
       "      <td>633790226052361498</td>\n",
       "      <td>4.087835</td>\n",
       "      <td>1.879999</td>\n",
       "      <td>0.466983</td>\n",
       "      <td>10</td>\n",
       "      <td>14</td>\n",
       "      <td>3</td>\n",
       "      <td>25</td>\n",
       "      <td>237000</td>\n",
       "    </tr>\n",
       "    <tr>\n",
       "      <th>3</th>\n",
       "      <td>0</td>\n",
       "      <td>1</td>\n",
       "      <td>633790226052631792</td>\n",
       "      <td>4.324462</td>\n",
       "      <td>2.072460</td>\n",
       "      <td>0.488065</td>\n",
       "      <td>10</td>\n",
       "      <td>14</td>\n",
       "      <td>3</td>\n",
       "      <td>25</td>\n",
       "      <td>263000</td>\n",
       "    </tr>\n",
       "    <tr>\n",
       "      <th>4</th>\n",
       "      <td>0</td>\n",
       "      <td>3</td>\n",
       "      <td>633790226052902087</td>\n",
       "      <td>4.364077</td>\n",
       "      <td>1.767691</td>\n",
       "      <td>1.299996</td>\n",
       "      <td>10</td>\n",
       "      <td>14</td>\n",
       "      <td>3</td>\n",
       "      <td>25</td>\n",
       "      <td>290000</td>\n",
       "    </tr>\n",
       "  </tbody>\n",
       "</table>\n",
       "</div>"
      ],
      "text/plain": [
       "   sequence name  tag ID           timestamp  tag x coordinate  \\\n",
       "0              0       3  633790226051820913          4.291954   \n",
       "1              0       2  633790226052091205          4.359101   \n",
       "2              0       0  633790226052361498          4.087835   \n",
       "3              0       1  633790226052631792          4.324462   \n",
       "4              0       3  633790226052902087          4.364077   \n",
       "\n",
       "   tag y coordinate  tag z coordinate  activity  hour  minute  second  \\\n",
       "0          1.781140          1.344495        10    14       3      25   \n",
       "1          1.826456          0.968821        10    14       3      25   \n",
       "2          1.879999          0.466983        10    14       3      25   \n",
       "3          2.072460          0.488065        10    14       3      25   \n",
       "4          1.767691          1.299996        10    14       3      25   \n",
       "\n",
       "   millisecond  \n",
       "0       183000  \n",
       "1       210000  \n",
       "2       237000  \n",
       "3       263000  \n",
       "4       290000  "
      ]
     },
     "execution_count": 23,
     "metadata": {},
     "output_type": "execute_result"
    }
   ],
   "source": [
    "clean_df.head()"
   ]
  },
  {
   "cell_type": "code",
   "execution_count": 24,
   "id": "7e8e1c17",
   "metadata": {},
   "outputs": [
    {
     "name": "stdout",
     "output_type": "stream",
     "text": [
      "name of column - hour\n",
      "number of unique values - 5\n",
      "unique values - [14 13 15 11 12]\n",
      "******************************\n",
      "\n",
      "name of column - minute\n",
      "number of unique values - 52\n",
      "unique values - [ 3  4  5  6 10 11 12 13 17 18 19 20 22 23 24 25 29 30 31 32 21 26 27 28\n",
      " 33 34 37 38 39 40 45 46 47 48  7  8  9 35 36 44 49 50 51 52 53 59  0  1\n",
      "  2 14 15 16]\n",
      "******************************\n",
      "\n",
      "name of column - second\n",
      "number of unique values - 60\n",
      "unique values - [25 26 27 28 29 30 31 32 33 34 35 36 37 38 39 40 41 42 43 44 45 46 47 48\n",
      " 49 50 51 52 53 54 55 56 57 58 59  0  1  2  3  4  5  6  7  8  9 10 11 12\n",
      " 13 14 15 16 17 18 19 20 21 22 23 24]\n",
      "******************************\n",
      "\n"
     ]
    }
   ],
   "source": [
    "time_columns = ['hour', 'minute', 'second']\n",
    "\n",
    "\n",
    "for i in time_columns:\n",
    "    print(\"name of column - {}\".format(i))\n",
    "    print(\"number of unique values -\", clean_df[i].nunique())\n",
    "    print(\"unique values -\", clean_df[i].unique()) \n",
    "    print('*'*30)\n",
    "    print()"
   ]
  },
  {
   "cell_type": "markdown",
   "id": "6f1940dd",
   "metadata": {},
   "source": [
    "Now there are only columns representing the time of the given day. It is possible now to see the distrbution of the time.\n",
    "\n",
    "### Time distribution"
   ]
  },
  {
   "cell_type": "code",
   "execution_count": 25,
   "id": "19a93aef",
   "metadata": {},
   "outputs": [
    {
     "name": "stderr",
     "output_type": "stream",
     "text": [
      "C:\\Users\\semam\\anaconda3\\lib\\site-packages\\seaborn\\distributions.py:2619: FutureWarning: `distplot` is a deprecated function and will be removed in a future version. Please adapt your code to use either `displot` (a figure-level function with similar flexibility) or `histplot` (an axes-level function for histograms).\n",
      "  warnings.warn(msg, FutureWarning)\n"
     ]
    },
    {
     "data": {
      "image/png": "[encoded data removed]",
      "text/plain": [
       "<Figure size 432x288 with 1 Axes>"
      ]
     },
     "metadata": {
      "needs_background": "light"
     },
     "output_type": "display_data"
    },
    {
     "name": "stderr",
     "output_type": "stream",
     "text": [
      "C:\\Users\\semam\\anaconda3\\lib\\site-packages\\seaborn\\distributions.py:2619: FutureWarning: `distplot` is a deprecated function and will be removed in a future version. Please adapt your code to use either `displot` (a figure-level function with similar flexibility) or `histplot` (an axes-level function for histograms).\n",
      "  warnings.warn(msg, FutureWarning)\n"
     ]
    },
    {
     "data": {
      "image/png": "[encoded data removed]",
      "text/plain": [
       "<Figure size 432x288 with 1 Axes>"
      ]
     },
     "metadata": {
      "needs_background": "light"
     },
     "output_type": "display_data"
    },
    {
     "name": "stderr",
     "output_type": "stream",
     "text": [
      "C:\\Users\\semam\\anaconda3\\lib\\site-packages\\seaborn\\distributions.py:2619: FutureWarning: `distplot` is a deprecated function and will be removed in a future version. Please adapt your code to use either `displot` (a figure-level function with similar flexibility) or `histplot` (an axes-level function for histograms).\n",
      "  warnings.warn(msg, FutureWarning)\n"
     ]
    },
    {
     "data": {
      "image/png": "[encoded data removed]",
      "text/plain": [
       "<Figure size 432x288 with 1 Axes>"
      ]
     },
     "metadata": {
      "needs_background": "light"
     },
     "output_type": "display_data"
    }
   ],
   "source": [
    "for i in time_columns:\n",
    "    sns.distplot(clean_df[i]) \n",
    "    plt.show()"
   ]
  },
  {
   "cell_type": "markdown",
   "id": "6466e1e0",
   "metadata": {},
   "source": [
    "From the graphs shown upper it is seen that most measurements were made at 11 am in the middle of an hour"
   ]
  },
  {
   "cell_type": "markdown",
   "id": "f101a70b",
   "metadata": {},
   "source": [
    "#### Last checks before building models"
   ]
  },
  {
   "cell_type": "code",
   "execution_count": 26,
   "id": "f32a5192",
   "metadata": {},
   "outputs": [
    {
     "data": {
      "text/plain": [
       "(164859, 11)"
      ]
     },
     "execution_count": 26,
     "metadata": {},
     "output_type": "execute_result"
    }
   ],
   "source": [
    "clean_df.shape"
   ]
  },
  {
   "cell_type": "code",
   "execution_count": 27,
   "id": "99ff6566",
   "metadata": {},
   "outputs": [
    {
     "name": "stdout",
     "output_type": "stream",
     "text": [
      "<class 'pandas.core.frame.DataFrame'>\n",
      "RangeIndex: 164859 entries, 0 to 164858\n",
      "Data columns (total 11 columns):\n",
      " #   Column            Non-Null Count   Dtype  \n",
      "---  ------            --------------   -----  \n",
      " 0   sequence name     164859 non-null  int32  \n",
      " 1   tag ID            164859 non-null  int32  \n",
      " 2   timestamp         164859 non-null  int64  \n",
      " 3   tag x coordinate  164859 non-null  float64\n",
      " 4   tag y coordinate  164859 non-null  float64\n",
      " 5   tag z coordinate  164859 non-null  float64\n",
      " 6   activity          164859 non-null  int32  \n",
      " 7   hour              164859 non-null  int64  \n",
      " 8   minute            164859 non-null  int64  \n",
      " 9   second            164859 non-null  int64  \n",
      " 10  millisecond       164859 non-null  int64  \n",
      "dtypes: float64(3), int32(3), int64(5)\n",
      "memory usage: 11.9 MB\n"
     ]
    }
   ],
   "source": [
    "clean_df.info()"
   ]
  },
  {
   "cell_type": "code",
   "execution_count": 28,
   "id": "e5c26b57",
   "metadata": {},
   "outputs": [
    {
     "data": {
      "text/plain": [
       "1     54480\n",
       "10    32709\n",
       "4     27244\n",
       "7     18361\n",
       "6     11779\n",
       "2      6168\n",
       "3      5210\n",
       "0      2973\n",
       "9      2848\n",
       "5      1706\n",
       "8      1381\n",
       "Name: activity, dtype: int64"
      ]
     },
     "execution_count": 28,
     "metadata": {},
     "output_type": "execute_result"
    }
   ],
   "source": [
    "clean_df['activity'].value_counts()"
   ]
  },
  {
   "cell_type": "markdown",
   "id": "739997a3",
   "metadata": {},
   "source": [
    "# Building models\n",
    "\n",
    "Models to be built with all the method covered through the courses such as log reg, SVM, trees, ensemble and boosting methods."
   ]
  },
  {
   "cell_type": "code",
   "execution_count": 65,
   "id": "7fa7fc3a",
   "metadata": {},
   "outputs": [],
   "source": [
    "#for Spliting Data\n",
    "from sklearn.model_selection import train_test_split\n",
    "\n",
    "#importing Classification Models\n",
    "from sklearn.linear_model import LogisticRegression\n",
    "from sklearn.svm import LinearSVC\n",
    "from sklearn.tree import DecisionTreeClassifier\n",
    "from sklearn.ensemble import RandomForestClassifier\n",
    "from sklearn.ensemble import BaggingClassifier\n",
    "from sklearn.ensemble import AdaBoostClassifier\n",
    "from sklearn.ensemble import GradientBoostingClassifier\n",
    "\n",
    "#to Transform Data\n",
    "from sklearn import preprocessing\n",
    "\n",
    "#statistical Tools\n",
    "from sklearn.metrics import roc_auc_score, accuracy_score, precision_score, recall_score, f1_score\n",
    "from sklearn.metrics import confusion_matrix, roc_curve, auc, classification_report"
   ]
  },
  {
   "cell_type": "code",
   "execution_count": 30,
   "id": "2100862e",
   "metadata": {},
   "outputs": [],
   "source": [
    "X = clean_df.drop(['activity'], axis=1) # Input Variable\n",
    "y = clean_df['activity'] # Target Varibale"
   ]
  },
  {
   "cell_type": "markdown",
   "id": "b8acd0fd",
   "metadata": {},
   "source": [
    "### Scaling"
   ]
  },
  {
   "cell_type": "markdown",
   "id": "d0182394",
   "metadata": {},
   "source": [
    "In order to be fit to the model data should be scaled with robust scaler to decrease the effect of outliers."
   ]
  },
  {
   "cell_type": "code",
   "execution_count": 31,
   "id": "ceb56381",
   "metadata": {},
   "outputs": [],
   "source": [
    "from sklearn.preprocessing import RobustScaler\n",
    "\n",
    "scaler = RobustScaler()\n",
    "\n",
    "x = scaler.fit_transform(X)"
   ]
  },
  {
   "cell_type": "markdown",
   "id": "9d51bbd8",
   "metadata": {},
   "source": [
    "### Train test split\n",
    "\n",
    "Split to train and test data is to be made 80% to train and 20% test."
   ]
  },
  {
   "cell_type": "code",
   "execution_count": 32,
   "id": "0aada969",
   "metadata": {},
   "outputs": [
    {
     "name": "stdout",
     "output_type": "stream",
     "text": [
      "131887 32972\n"
     ]
    }
   ],
   "source": [
    "x_train, x_test, y_train, y_test = train_test_split(x, y, test_size=0.2)\n",
    "\n",
    "print(x_train.shape[0], x_test.shape[0])"
   ]
  },
  {
   "cell_type": "markdown",
   "id": "99393166",
   "metadata": {},
   "source": [
    "Now it's time to build models and check each for efficiency"
   ]
  },
  {
   "cell_type": "code",
   "execution_count": 33,
   "id": "571ae791",
   "metadata": {},
   "outputs": [],
   "source": [
    "accuracy = {}\n",
    "\n",
    "def build_model(model, model_name):\n",
    "    print(model_name)\n",
    "    \n",
    "    # Fitting model\n",
    "    model = model.fit(x_train, y_train)\n",
    "    pred = model.predict(x_test)\n",
    "    \n",
    "    #Model accuracy\n",
    "    acc = accuracy_score(y_test, pred)*100\n",
    "    accuracy[model_name] = acc\n",
    "    print('accuracy_score', acc)\n",
    "    print()\n",
    "    \n",
    "    # Classification Report\n",
    "    print('Classification Report')\n",
    "    print(classification_report(y_test, pred))"
   ]
  },
  {
   "cell_type": "markdown",
   "id": "53216e5b",
   "metadata": {},
   "source": [
    "### Logistic Regression"
   ]
  },
  {
   "cell_type": "code",
   "execution_count": 34,
   "id": "fdede9ab",
   "metadata": {},
   "outputs": [
    {
     "name": "stdout",
     "output_type": "stream",
     "text": [
      "Logistic Regression Classifier\n",
      "accuracy_score 40.84677908528448\n",
      "\n",
      "Classification Report\n",
      "              precision    recall  f1-score   support\n",
      "\n",
      "           0       0.00      0.00      0.00       580\n",
      "           1       0.40      0.79      0.53     10929\n",
      "           2       0.00      0.00      0.00      1210\n",
      "           3       0.32      0.19      0.24      1060\n",
      "           4       0.44      0.25      0.32      5403\n",
      "           5       0.00      0.00      0.00       349\n",
      "           6       0.40      0.12      0.19      2376\n",
      "           7       0.00      0.00      0.00      3699\n",
      "           8       0.00      0.00      0.00       269\n",
      "           9       0.00      0.00      0.00       587\n",
      "          10       0.43      0.46      0.44      6510\n",
      "\n",
      "    accuracy                           0.41     32972\n",
      "   macro avg       0.18      0.17      0.16     32972\n",
      "weighted avg       0.33      0.41      0.34     32972\n",
      "\n"
     ]
    },
    {
     "name": "stderr",
     "output_type": "stream",
     "text": [
      "C:\\Users\\semam\\anaconda3\\lib\\site-packages\\sklearn\\metrics\\_classification.py:1248: UndefinedMetricWarning: Precision and F-score are ill-defined and being set to 0.0 in labels with no predicted samples. Use `zero_division` parameter to control this behavior.\n",
      "  _warn_prf(average, modifier, msg_start, len(result))\n",
      "C:\\Users\\semam\\anaconda3\\lib\\site-packages\\sklearn\\metrics\\_classification.py:1248: UndefinedMetricWarning: Precision and F-score are ill-defined and being set to 0.0 in labels with no predicted samples. Use `zero_division` parameter to control this behavior.\n",
      "  _warn_prf(average, modifier, msg_start, len(result))\n",
      "C:\\Users\\semam\\anaconda3\\lib\\site-packages\\sklearn\\metrics\\_classification.py:1248: UndefinedMetricWarning: Precision and F-score are ill-defined and being set to 0.0 in labels with no predicted samples. Use `zero_division` parameter to control this behavior.\n",
      "  _warn_prf(average, modifier, msg_start, len(result))\n"
     ]
    }
   ],
   "source": [
    "lrc = LogisticRegression()\n",
    "\n",
    "build_model(lrc, 'Logistic Regression Classifier')"
   ]
  },
  {
   "cell_type": "markdown",
   "id": "138886cd",
   "metadata": {},
   "source": [
    "### Support Vectors"
   ]
  },
  {
   "cell_type": "code",
   "execution_count": 66,
   "id": "4f21625c",
   "metadata": {},
   "outputs": [
    {
     "name": "stdout",
     "output_type": "stream",
     "text": [
      "Linear SV Classifier\n",
      "accuracy_score 40.09159286667475\n",
      "\n",
      "Classification Report\n",
      "              precision    recall  f1-score   support\n",
      "\n",
      "           0       0.00      0.00      0.00       580\n",
      "           1       0.40      0.86      0.55     10929\n",
      "           2       0.00      0.00      0.00      1210\n",
      "           3       0.33      0.05      0.08      1060\n",
      "           4       0.40      0.12      0.18      5403\n",
      "           5       0.00      0.00      0.00       349\n",
      "           6       0.19      0.00      0.01      2376\n",
      "           7       0.00      0.00      0.00      3699\n",
      "           8       0.00      0.00      0.00       269\n",
      "           9       0.00      0.00      0.00       587\n",
      "          10       0.40      0.47      0.43      6510\n",
      "\n",
      "    accuracy                           0.40     32972\n",
      "   macro avg       0.16      0.14      0.11     32972\n",
      "weighted avg       0.30      0.40      0.30     32972\n",
      "\n"
     ]
    },
    {
     "name": "stderr",
     "output_type": "stream",
     "text": [
      "C:\\Users\\semam\\anaconda3\\lib\\site-packages\\sklearn\\svm\\_base.py:985: ConvergenceWarning: Liblinear failed to converge, increase the number of iterations.\n",
      "  warnings.warn(\"Liblinear failed to converge, increase \"\n",
      "C:\\Users\\semam\\anaconda3\\lib\\site-packages\\sklearn\\metrics\\_classification.py:1248: UndefinedMetricWarning: Precision and F-score are ill-defined and being set to 0.0 in labels with no predicted samples. Use `zero_division` parameter to control this behavior.\n",
      "  _warn_prf(average, modifier, msg_start, len(result))\n",
      "C:\\Users\\semam\\anaconda3\\lib\\site-packages\\sklearn\\metrics\\_classification.py:1248: UndefinedMetricWarning: Precision and F-score are ill-defined and being set to 0.0 in labels with no predicted samples. Use `zero_division` parameter to control this behavior.\n",
      "  _warn_prf(average, modifier, msg_start, len(result))\n",
      "C:\\Users\\semam\\anaconda3\\lib\\site-packages\\sklearn\\metrics\\_classification.py:1248: UndefinedMetricWarning: Precision and F-score are ill-defined and being set to 0.0 in labels with no predicted samples. Use `zero_division` parameter to control this behavior.\n",
      "  _warn_prf(average, modifier, msg_start, len(result))\n"
     ]
    }
   ],
   "source": [
    "lsvc = LinearSVC()\n",
    "\n",
    "build_model(lsvc, 'Linear SV Classifier')"
   ]
  },
  {
   "cell_type": "markdown",
   "id": "6c975702",
   "metadata": {},
   "source": [
    "### Decision Tree"
   ]
  },
  {
   "cell_type": "code",
   "execution_count": 35,
   "id": "378ff9ba",
   "metadata": {},
   "outputs": [
    {
     "name": "stdout",
     "output_type": "stream",
     "text": [
      "Decision Tree Classifier\n",
      "accuracy_score 86.7493630959602\n",
      "\n",
      "Classification Report\n",
      "              precision    recall  f1-score   support\n",
      "\n",
      "           0       0.56      0.53      0.54       580\n",
      "           1       0.94      0.94      0.94     10929\n",
      "           2       0.59      0.61      0.60      1210\n",
      "           3       0.83      0.86      0.84      1060\n",
      "           4       0.92      0.94      0.93      5403\n",
      "           5       0.56      0.57      0.57       349\n",
      "           6       0.94      0.96      0.95      2376\n",
      "           7       0.76      0.75      0.75      3699\n",
      "           8       0.61      0.65      0.63       269\n",
      "           9       0.75      0.73      0.74       587\n",
      "          10       0.86      0.84      0.85      6510\n",
      "\n",
      "    accuracy                           0.87     32972\n",
      "   macro avg       0.76      0.76      0.76     32972\n",
      "weighted avg       0.87      0.87      0.87     32972\n",
      "\n"
     ]
    }
   ],
   "source": [
    "dtc = DecisionTreeClassifier()\n",
    "\n",
    "build_model(dtc, 'Decision Tree Classifier')"
   ]
  },
  {
   "cell_type": "markdown",
   "id": "ca9d6e92",
   "metadata": {},
   "source": [
    "### Bagging classifier"
   ]
  },
  {
   "cell_type": "code",
   "execution_count": 36,
   "id": "0e2f1a71",
   "metadata": {},
   "outputs": [
    {
     "name": "stdout",
     "output_type": "stream",
     "text": [
      "Bagging Classifier\n",
      "accuracy_score 90.54652432366856\n",
      "\n",
      "Classification Report\n",
      "              precision    recall  f1-score   support\n",
      "\n",
      "           0       0.71      0.54      0.62       580\n",
      "           1       0.93      0.98      0.96     10929\n",
      "           2       0.78      0.65      0.71      1210\n",
      "           3       0.90      0.88      0.89      1060\n",
      "           4       0.93      0.96      0.94      5403\n",
      "           5       0.77      0.52      0.62       349\n",
      "           6       0.94      0.98      0.96      2376\n",
      "           7       0.85      0.79      0.82      3699\n",
      "           8       0.80      0.65      0.72       269\n",
      "           9       0.87      0.77      0.82       587\n",
      "          10       0.89      0.91      0.90      6510\n",
      "\n",
      "    accuracy                           0.91     32972\n",
      "   macro avg       0.85      0.78      0.81     32972\n",
      "weighted avg       0.90      0.91      0.90     32972\n",
      "\n"
     ]
    }
   ],
   "source": [
    "bagg_c = BaggingClassifier() \n",
    "\n",
    "build_model(bagg_c, 'Bagging Classifier')"
   ]
  },
  {
   "cell_type": "markdown",
   "id": "eb652831",
   "metadata": {},
   "source": [
    "### Random forest"
   ]
  },
  {
   "cell_type": "code",
   "execution_count": 37,
   "id": "e31e8c21",
   "metadata": {},
   "outputs": [
    {
     "name": "stdout",
     "output_type": "stream",
     "text": [
      "Random Forest Classifier\n",
      "accuracy_score 93.57636782724737\n",
      "\n",
      "Classification Report\n",
      "              precision    recall  f1-score   support\n",
      "\n",
      "           0       0.85      0.55      0.67       580\n",
      "           1       0.95      0.99      0.97     10929\n",
      "           2       0.91      0.72      0.81      1210\n",
      "           3       0.94      0.93      0.94      1060\n",
      "           4       0.96      0.98      0.97      5403\n",
      "           5       0.91      0.55      0.69       349\n",
      "           6       0.97      0.98      0.97      2376\n",
      "           7       0.92      0.85      0.88      3699\n",
      "           8       0.91      0.70      0.79       269\n",
      "           9       0.93      0.83      0.88       587\n",
      "          10       0.91      0.96      0.93      6510\n",
      "\n",
      "    accuracy                           0.94     32972\n",
      "   macro avg       0.92      0.82      0.86     32972\n",
      "weighted avg       0.93      0.94      0.93     32972\n",
      "\n"
     ]
    }
   ],
   "source": [
    "rfc = RandomForestClassifier()\n",
    "\n",
    "build_model(rfc, 'Random Forest Classifier')"
   ]
  },
  {
   "cell_type": "markdown",
   "id": "3cb658b5",
   "metadata": {},
   "source": [
    "### Adaptive Boosting"
   ]
  },
  {
   "cell_type": "code",
   "execution_count": 38,
   "id": "3e01ec2f",
   "metadata": {},
   "outputs": [
    {
     "name": "stdout",
     "output_type": "stream",
     "text": [
      "Adaprtive Boosting Classifier\n",
      "accuracy_score 40.38578187553075\n",
      "\n",
      "Classification Report\n",
      "              precision    recall  f1-score   support\n",
      "\n",
      "           0       0.16      0.09      0.11       580\n",
      "           1       0.53      0.50      0.51     10929\n",
      "           2       0.10      0.21      0.13      1210\n",
      "           3       0.15      0.22      0.18      1060\n",
      "           4       0.49      0.51      0.50      5403\n",
      "           5       0.12      0.01      0.01       349\n",
      "           6       0.23      0.45      0.31      2376\n",
      "           7       0.21      0.02      0.04      3699\n",
      "           8       0.00      0.00      0.00       269\n",
      "           9       0.16      0.14      0.15       587\n",
      "          10       0.48      0.52      0.50      6510\n",
      "\n",
      "    accuracy                           0.40     32972\n",
      "   macro avg       0.24      0.24      0.22     32972\n",
      "weighted avg       0.41      0.40      0.39     32972\n",
      "\n"
     ]
    }
   ],
   "source": [
    "abc = AdaBoostClassifier() \n",
    "\n",
    "build_model(abc, 'Adaprtive Boosting Classifier')"
   ]
  },
  {
   "cell_type": "markdown",
   "id": "abad3987",
   "metadata": {},
   "source": [
    "### Gradient Boosting"
   ]
  },
  {
   "cell_type": "code",
   "execution_count": 39,
   "id": "43acee35",
   "metadata": {},
   "outputs": [
    {
     "name": "stdout",
     "output_type": "stream",
     "text": [
      "Gradient Boosting Classifier\n",
      "accuracy_score 75.65510129807109\n",
      "\n",
      "Classification Report\n",
      "              precision    recall  f1-score   support\n",
      "\n",
      "           0       0.89      0.32      0.47       580\n",
      "           1       0.77      0.91      0.83     10929\n",
      "           2       0.86      0.31      0.45      1210\n",
      "           3       0.78      0.63      0.70      1060\n",
      "           4       0.79      0.79      0.79      5403\n",
      "           5       0.91      0.43      0.58       349\n",
      "           6       0.86      0.90      0.88      2376\n",
      "           7       0.68      0.39      0.50      3699\n",
      "           8       0.96      0.82      0.88       269\n",
      "           9       0.88      0.61      0.72       587\n",
      "          10       0.67      0.80      0.73      6510\n",
      "\n",
      "    accuracy                           0.76     32972\n",
      "   macro avg       0.82      0.63      0.69     32972\n",
      "weighted avg       0.76      0.76      0.74     32972\n",
      "\n"
     ]
    }
   ],
   "source": [
    "gbc = GradientBoostingClassifier()\n",
    "\n",
    "build_model(gbc, 'Gradient Boosting Classifier')"
   ]
  },
  {
   "cell_type": "markdown",
   "id": "de029a99",
   "metadata": {},
   "source": [
    "# Conclusion\n",
    "\n",
    "*Logistic regression* and *SVC* gave the worst results for such classification task.\n",
    "While *AdaBoost* also failed giving 40% accuracy, another boosting method - *gradient boosting* - performed well giving 75% accuracy.\n",
    "\n",
    "Tree-based methods gave the best results, that is, *decision tree, bagging* and *random forest*.\n",
    "\n",
    "From the obtained classifiaction reports it is easy to conclude that ensemble method **random forest classifier** gives the best accuracy 90% and is the most suitable and efficient method for such a task."
   ]
  },
  {
   "cell_type": "markdown",
   "id": "1e6e922e",
   "metadata": {},
   "source": [
    "## Feature importance\n",
    "\n",
    "Now it is required to estimate importance of each feature for different models.\n"
   ]
  },
  {
   "cell_type": "markdown",
   "id": "59f51ce6",
   "metadata": {},
   "source": [
    "### Linear Regression"
   ]
  },
  {
   "cell_type": "code",
   "execution_count": 46,
   "id": "101bcd8b",
   "metadata": {},
   "outputs": [
    {
     "data": {
      "text/plain": [
       "Text(0.5, 0, 'Relative Feature Importance')"
      ]
     },
     "execution_count": 46,
     "metadata": {},
     "output_type": "execute_result"
    },
    {
     "data": {
      "image/png": "[encoded data removed]",
      "text/plain": [
       "<Figure size 432x288 with 1 Axes>"
      ]
     },
     "metadata": {
      "needs_background": "light"
     },
     "output_type": "display_data"
    }
   ],
   "source": [
    "feature_importance = abs(lrc.coef_[0])\n",
    "feature_importance = 100.0 * (feature_importance / feature_importance.max())\n",
    "sorted_idx = np.argsort(feature_importance)\n",
    "pos = np.arange(sorted_idx.shape[0]) + .5\n",
    "\n",
    "featfig = plt.figure()\n",
    "featax = featfig.add_subplot(1, 1, 1)\n",
    "featax.barh(pos, feature_importance[sorted_idx], align='center')\n",
    "featax.set_yticks(pos)\n",
    "featax.set_yticklabels(np.array(X.columns)[sorted_idx], fontsize=8)\n",
    "featax.set_xlabel('Relative Feature Importance')"
   ]
  },
  {
   "cell_type": "markdown",
   "id": "4a2bfb7c",
   "metadata": {},
   "source": [
    "### Support Vectors\n"
   ]
  },
  {
   "cell_type": "code",
   "execution_count": 67,
   "id": "22eaee3a",
   "metadata": {},
   "outputs": [
    {
     "data": {
      "text/plain": [
       "Text(0.5, 0, 'Relative Feature Importance')"
      ]
     },
     "execution_count": 67,
     "metadata": {},
     "output_type": "execute_result"
    },
    {
     "data": {
      "image/png": "[encoded data removed]",
      "text/plain": [
       "<Figure size 432x288 with 1 Axes>"
      ]
     },
     "metadata": {
      "needs_background": "light"
     },
     "output_type": "display_data"
    }
   ],
   "source": [
    "feature_importance = abs(lsvc.coef_[0])\n",
    "feature_importance = 100.0 * (feature_importance / feature_importance.max())\n",
    "sorted_idx = np.argsort(feature_importance)\n",
    "pos = np.arange(sorted_idx.shape[0]) + .5\n",
    "\n",
    "featfig = plt.figure()\n",
    "featax = featfig.add_subplot(1, 1, 1)\n",
    "featax.barh(pos, feature_importance[sorted_idx], align='center')\n",
    "featax.set_yticks(pos)\n",
    "featax.set_yticklabels(np.array(X.columns)[sorted_idx], fontsize=8)\n",
    "featax.set_xlabel('Relative Feature Importance')"
   ]
  },
  {
   "cell_type": "markdown",
   "id": "1aaad172",
   "metadata": {},
   "source": [
    "### Decision Tree"
   ]
  },
  {
   "cell_type": "code",
   "execution_count": 74,
   "id": "72d33548",
   "metadata": {},
   "outputs": [
    {
     "data": {
      "text/plain": [
       "<AxesSubplot:>"
      ]
     },
     "execution_count": 74,
     "metadata": {},
     "output_type": "execute_result"
    },
    {
     "data": {
      "image/png": "[encoded data removed]",
      "text/plain": [
       "<Figure size 432x288 with 1 Axes>"
      ]
     },
     "metadata": {
      "needs_background": "light"
     },
     "output_type": "display_data"
    }
   ],
   "source": [
    "feat_importances = pd.Series(dtc.feature_importances_, index=clean_df.columns[:-1])\n",
    "feat_importances.plot(kind='barh')"
   ]
  },
  {
   "cell_type": "markdown",
   "id": "3822a413",
   "metadata": {},
   "source": [
    "### Bagging"
   ]
  },
  {
   "cell_type": "code",
   "execution_count": 62,
   "id": "81f9bfc7",
   "metadata": {},
   "outputs": [
    {
     "data": {
      "image/png": "[encoded data removed]",
      "text/plain": [
       "<Figure size 432x288 with 1 Axes>"
      ]
     },
     "metadata": {
      "needs_background": "light"
     },
     "output_type": "display_data"
    }
   ],
   "source": [
    "for i in bagg_c.estimators_:\n",
    "    feat_importances = pd.Series(i.feature_importances_, index=clean_df.columns[:-1])\n",
    "    feat_importances.plot(kind='barh')"
   ]
  },
  {
   "cell_type": "markdown",
   "id": "39c11539",
   "metadata": {},
   "source": [
    "### Random Forest"
   ]
  },
  {
   "cell_type": "code",
   "execution_count": 57,
   "id": "5e0d22a8",
   "metadata": {},
   "outputs": [
    {
     "data": {
      "text/plain": [
       "<AxesSubplot:>"
      ]
     },
     "execution_count": 57,
     "metadata": {},
     "output_type": "execute_result"
    },
    {
     "data": {
      "image/png": "[encoded data removed]",
      "text/plain": [
       "<Figure size 432x288 with 1 Axes>"
      ]
     },
     "metadata": {
      "needs_background": "light"
     },
     "output_type": "display_data"
    }
   ],
   "source": [
    "feat_importances = pd.Series(rfc.feature_importances_, index=clean_df.columns[:-1])\n",
    "feat_importances.plot(kind='barh')"
   ]
  },
  {
   "cell_type": "markdown",
   "id": "607417e8",
   "metadata": {},
   "source": [
    "### Adaptive Boosting"
   ]
  },
  {
   "cell_type": "code",
   "execution_count": 63,
   "id": "1f4efad1",
   "metadata": {},
   "outputs": [
    {
     "data": {
      "text/plain": [
       "<AxesSubplot:>"
      ]
     },
     "execution_count": 63,
     "metadata": {},
     "output_type": "execute_result"
    },
    {
     "data": {
      "image/png": "[encoded data removed]",
      "text/plain": [
       "<Figure size 432x288 with 1 Axes>"
      ]
     },
     "metadata": {
      "needs_background": "light"
     },
     "output_type": "display_data"
    }
   ],
   "source": [
    "feat_importances = pd.Series(abc.feature_importances_, index=clean_df.columns[:-1])\n",
    "feat_importances.plot(kind='barh')"
   ]
  },
  {
   "cell_type": "markdown",
   "id": "0dcded36",
   "metadata": {},
   "source": [
    "### Gradient Boosting"
   ]
  },
  {
   "cell_type": "code",
   "execution_count": 64,
   "id": "3753499c",
   "metadata": {},
   "outputs": [
    {
     "data": {
      "text/plain": [
       "<AxesSubplot:>"
      ]
     },
     "execution_count": 64,
     "metadata": {},
     "output_type": "execute_result"
    },
    {
     "data": {
      "image/png": "[encoded data removed]",
      "text/plain": [
       "<Figure size 432x288 with 1 Axes>"
      ]
     },
     "metadata": {
      "needs_background": "light"
     },
     "output_type": "display_data"
    }
   ],
   "source": [
    "feat_importances = pd.Series(gbc.feature_importances_, index=clean_df.columns[:-1])\n",
    "feat_importances.plot(kind='barh')"
   ]
  },
  {
   "cell_type": "markdown",
   "id": "5511ea01",
   "metadata": {},
   "source": [
    "From the obtained graphs it is seen that for the most model the most efficient features were timestamp and 'x' coordinate. Except for Logistic Regression and Linear SVC. For these models ccordinate 'y' was the most imporatant and slightly less important was 'x' coordinate."
   ]
  },
  {
   "cell_type": "markdown",
   "id": "9e37b3c8",
   "metadata": {},
   "source": [
    "# What was added? \n",
    "\n",
    "+ Some markdown commentaries to make the code more understandable\n",
    "+ New models were added (Logistic Regression and LinearSVC)\n",
    "+ Feature importance was added to better understand performance of each model\n",
    "\n",
    "### Tried but didn't succeed\n",
    "\n",
    "+ over-sampling the dataset with SMOTE\n",
    "+ Fixing proper hyperparameters to models\n",
    "\n",
    "Setting hyperparameters lowered the performance of the models while oversampling made models' performance way better, but they were getting to 'big' and impossible for the computer to calculate in reasonable amount of time."
   ]
  },
  {
   "cell_type": "markdown",
   "id": "4849a300",
   "metadata": {},
   "source": []
  }
 ],
 "metadata": {
  "kernelspec": {
   "display_name": "Python 3 (ipykernel)",
   "language": "python",
   "name": "python3"
  },
  "language_info": {
   "codemirror_mode": {
    "name": "ipython",
    "version": 3
   },
   "file_extension": ".py",
   "mimetype": "text/x-python",
   "name": "python",
   "nbconvert_exporter": "python",
   "pygments_lexer": "ipython3",
   "version": "3.9.7"
  }
 },
 "nbformat": 4,
 "nbformat_minor": 5
}
