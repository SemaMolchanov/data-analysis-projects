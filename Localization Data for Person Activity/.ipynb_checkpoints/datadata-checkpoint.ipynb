{
 "cells": [
  {
   "cell_type": "code",
   "execution_count": 1,
   "id": "bb067d21",
   "metadata": {},
   "outputs": [],
   "source": [
    "import numpy as np\n",
    "import pandas as pd\n",
    "import matplotlib.pyplot as plt\n",
    "from mpl_toolkits.mplot3d import Axes3D\n",
    "import seaborn as sns"
   ]
  },
  {
   "cell_type": "code",
   "execution_count": 2,
   "id": "6c00fdc9",
   "metadata": {},
   "outputs": [],
   "source": [
    "%matplotlib inline"
   ]
  },
  {
   "cell_type": "code",
   "execution_count": 3,
   "id": "587cf09c",
   "metadata": {},
   "outputs": [],
   "source": [
    "df = pd.read_csv('data.csv')"
   ]
  },
  {
   "cell_type": "code",
   "execution_count": 4,
   "id": "11a035b3",
   "metadata": {},
   "outputs": [
    {
     "data": {
      "text/html": [
       "<div>\n",
       "<style scoped>\n",
       "    .dataframe tbody tr th:only-of-type {\n",
       "        vertical-align: middle;\n",
       "    }\n",
       "\n",
       "    .dataframe tbody tr th {\n",
       "        vertical-align: top;\n",
       "    }\n",
       "\n",
       "    .dataframe thead th {\n",
       "        text-align: right;\n",
       "    }\n",
       "</style>\n",
       "<table border=\"1\" class=\"dataframe\">\n",
       "  <thead>\n",
       "    <tr style=\"text-align: right;\">\n",
       "      <th></th>\n",
       "      <th>A01</th>\n",
       "      <th>010-000-024-033</th>\n",
       "      <th>633790226051280329</th>\n",
       "      <th>27.05.2009 14:03:25:127</th>\n",
       "      <th>4.062931060791016</th>\n",
       "      <th>1.8924342393875122</th>\n",
       "      <th>0.5074254274368286</th>\n",
       "      <th>walking</th>\n",
       "    </tr>\n",
       "  </thead>\n",
       "  <tbody>\n",
       "    <tr>\n",
       "      <th>0</th>\n",
       "      <td>A01</td>\n",
       "      <td>020-000-033-111</td>\n",
       "      <td>633790226051820913</td>\n",
       "      <td>27.05.2009 14:03:25:183</td>\n",
       "      <td>4.291954</td>\n",
       "      <td>1.781140</td>\n",
       "      <td>1.344495</td>\n",
       "      <td>walking</td>\n",
       "    </tr>\n",
       "    <tr>\n",
       "      <th>1</th>\n",
       "      <td>A01</td>\n",
       "      <td>020-000-032-221</td>\n",
       "      <td>633790226052091205</td>\n",
       "      <td>27.05.2009 14:03:25:210</td>\n",
       "      <td>4.359101</td>\n",
       "      <td>1.826456</td>\n",
       "      <td>0.968821</td>\n",
       "      <td>walking</td>\n",
       "    </tr>\n",
       "    <tr>\n",
       "      <th>2</th>\n",
       "      <td>A01</td>\n",
       "      <td>010-000-024-033</td>\n",
       "      <td>633790226052361498</td>\n",
       "      <td>27.05.2009 14:03:25:237</td>\n",
       "      <td>4.087835</td>\n",
       "      <td>1.879999</td>\n",
       "      <td>0.466983</td>\n",
       "      <td>walking</td>\n",
       "    </tr>\n",
       "    <tr>\n",
       "      <th>3</th>\n",
       "      <td>A01</td>\n",
       "      <td>010-000-030-096</td>\n",
       "      <td>633790226052631792</td>\n",
       "      <td>27.05.2009 14:03:25:263</td>\n",
       "      <td>4.324462</td>\n",
       "      <td>2.072460</td>\n",
       "      <td>0.488065</td>\n",
       "      <td>walking</td>\n",
       "    </tr>\n",
       "    <tr>\n",
       "      <th>4</th>\n",
       "      <td>A01</td>\n",
       "      <td>020-000-033-111</td>\n",
       "      <td>633790226052902087</td>\n",
       "      <td>27.05.2009 14:03:25:290</td>\n",
       "      <td>4.364077</td>\n",
       "      <td>1.767691</td>\n",
       "      <td>1.299996</td>\n",
       "      <td>walking</td>\n",
       "    </tr>\n",
       "  </tbody>\n",
       "</table>\n",
       "</div>"
      ],
      "text/plain": [
       "   A01  010-000-024-033  633790226051280329  27.05.2009 14:03:25:127  \\\n",
       "0  A01  020-000-033-111  633790226051820913  27.05.2009 14:03:25:183   \n",
       "1  A01  020-000-032-221  633790226052091205  27.05.2009 14:03:25:210   \n",
       "2  A01  010-000-024-033  633790226052361498  27.05.2009 14:03:25:237   \n",
       "3  A01  010-000-030-096  633790226052631792  27.05.2009 14:03:25:263   \n",
       "4  A01  020-000-033-111  633790226052902087  27.05.2009 14:03:25:290   \n",
       "\n",
       "   4.062931060791016  1.8924342393875122  0.5074254274368286  walking  \n",
       "0           4.291954            1.781140            1.344495  walking  \n",
       "1           4.359101            1.826456            0.968821  walking  \n",
       "2           4.087835            1.879999            0.466983  walking  \n",
       "3           4.324462            2.072460            0.488065  walking  \n",
       "4           4.364077            1.767691            1.299996  walking  "
      ]
     },
     "execution_count": 4,
     "metadata": {},
     "output_type": "execute_result"
    }
   ],
   "source": [
    "df.head()"
   ]
  },
  {
   "cell_type": "code",
   "execution_count": 5,
   "id": "d011b93a",
   "metadata": {},
   "outputs": [],
   "source": [
    "df.columns = ['sequence name', 'tag ID', 'timestamp', 'date time', \n",
    "                'tag x coordinate', 'tag y coordinate', 'tag z coordinate', 'activity']"
   ]
  },
  {
   "cell_type": "code",
   "execution_count": 6,
   "id": "2b4cf7c6",
   "metadata": {},
   "outputs": [
    {
     "data": {
      "text/html": [
       "<div>\n",
       "<style scoped>\n",
       "    .dataframe tbody tr th:only-of-type {\n",
       "        vertical-align: middle;\n",
       "    }\n",
       "\n",
       "    .dataframe tbody tr th {\n",
       "        vertical-align: top;\n",
       "    }\n",
       "\n",
       "    .dataframe thead th {\n",
       "        text-align: right;\n",
       "    }\n",
       "</style>\n",
       "<table border=\"1\" class=\"dataframe\">\n",
       "  <thead>\n",
       "    <tr style=\"text-align: right;\">\n",
       "      <th></th>\n",
       "      <th>sequence name</th>\n",
       "      <th>tag ID</th>\n",
       "      <th>timestamp</th>\n",
       "      <th>date time</th>\n",
       "      <th>tag x coordinate</th>\n",
       "      <th>tag y coordinate</th>\n",
       "      <th>tag z coordinate</th>\n",
       "      <th>activity</th>\n",
       "    </tr>\n",
       "  </thead>\n",
       "  <tbody>\n",
       "    <tr>\n",
       "      <th>0</th>\n",
       "      <td>A01</td>\n",
       "      <td>020-000-033-111</td>\n",
       "      <td>633790226051820913</td>\n",
       "      <td>27.05.2009 14:03:25:183</td>\n",
       "      <td>4.291954</td>\n",
       "      <td>1.781140</td>\n",
       "      <td>1.344495</td>\n",
       "      <td>walking</td>\n",
       "    </tr>\n",
       "    <tr>\n",
       "      <th>1</th>\n",
       "      <td>A01</td>\n",
       "      <td>020-000-032-221</td>\n",
       "      <td>633790226052091205</td>\n",
       "      <td>27.05.2009 14:03:25:210</td>\n",
       "      <td>4.359101</td>\n",
       "      <td>1.826456</td>\n",
       "      <td>0.968821</td>\n",
       "      <td>walking</td>\n",
       "    </tr>\n",
       "    <tr>\n",
       "      <th>2</th>\n",
       "      <td>A01</td>\n",
       "      <td>010-000-024-033</td>\n",
       "      <td>633790226052361498</td>\n",
       "      <td>27.05.2009 14:03:25:237</td>\n",
       "      <td>4.087835</td>\n",
       "      <td>1.879999</td>\n",
       "      <td>0.466983</td>\n",
       "      <td>walking</td>\n",
       "    </tr>\n",
       "    <tr>\n",
       "      <th>3</th>\n",
       "      <td>A01</td>\n",
       "      <td>010-000-030-096</td>\n",
       "      <td>633790226052631792</td>\n",
       "      <td>27.05.2009 14:03:25:263</td>\n",
       "      <td>4.324462</td>\n",
       "      <td>2.072460</td>\n",
       "      <td>0.488065</td>\n",
       "      <td>walking</td>\n",
       "    </tr>\n",
       "    <tr>\n",
       "      <th>4</th>\n",
       "      <td>A01</td>\n",
       "      <td>020-000-033-111</td>\n",
       "      <td>633790226052902087</td>\n",
       "      <td>27.05.2009 14:03:25:290</td>\n",
       "      <td>4.364077</td>\n",
       "      <td>1.767691</td>\n",
       "      <td>1.299996</td>\n",
       "      <td>walking</td>\n",
       "    </tr>\n",
       "  </tbody>\n",
       "</table>\n",
       "</div>"
      ],
      "text/plain": [
       "  sequence name           tag ID           timestamp                date time  \\\n",
       "0           A01  020-000-033-111  633790226051820913  27.05.2009 14:03:25:183   \n",
       "1           A01  020-000-032-221  633790226052091205  27.05.2009 14:03:25:210   \n",
       "2           A01  010-000-024-033  633790226052361498  27.05.2009 14:03:25:237   \n",
       "3           A01  010-000-030-096  633790226052631792  27.05.2009 14:03:25:263   \n",
       "4           A01  020-000-033-111  633790226052902087  27.05.2009 14:03:25:290   \n",
       "\n",
       "   tag x coordinate  tag y coordinate  tag z coordinate activity  \n",
       "0          4.291954          1.781140          1.344495  walking  \n",
       "1          4.359101          1.826456          0.968821  walking  \n",
       "2          4.087835          1.879999          0.466983  walking  \n",
       "3          4.324462          2.072460          0.488065  walking  \n",
       "4          4.364077          1.767691          1.299996  walking  "
      ]
     },
     "execution_count": 6,
     "metadata": {},
     "output_type": "execute_result"
    }
   ],
   "source": [
    "df.head()"
   ]
  },
  {
   "cell_type": "code",
   "execution_count": 7,
   "id": "da4d622c",
   "metadata": {},
   "outputs": [
    {
     "name": "stdout",
     "output_type": "stream",
     "text": [
      "<class 'pandas.core.frame.DataFrame'>\n",
      "RangeIndex: 164859 entries, 0 to 164858\n",
      "Data columns (total 8 columns):\n",
      " #   Column            Non-Null Count   Dtype  \n",
      "---  ------            --------------   -----  \n",
      " 0   sequence name     164859 non-null  object \n",
      " 1   tag ID            164859 non-null  object \n",
      " 2   timestamp         164859 non-null  int64  \n",
      " 3   date time         164859 non-null  object \n",
      " 4   tag x coordinate  164859 non-null  float64\n",
      " 5   tag y coordinate  164859 non-null  float64\n",
      " 6   tag z coordinate  164859 non-null  float64\n",
      " 7   activity          164859 non-null  object \n",
      "dtypes: float64(3), int64(1), object(4)\n",
      "memory usage: 10.1+ MB\n"
     ]
    }
   ],
   "source": [
    "df.info()"
   ]
  },
  {
   "cell_type": "code",
   "execution_count": 8,
   "id": "28954aa8",
   "metadata": {},
   "outputs": [
    {
     "data": {
      "text/html": [
       "<div>\n",
       "<style scoped>\n",
       "    .dataframe tbody tr th:only-of-type {\n",
       "        vertical-align: middle;\n",
       "    }\n",
       "\n",
       "    .dataframe tbody tr th {\n",
       "        vertical-align: top;\n",
       "    }\n",
       "\n",
       "    .dataframe thead th {\n",
       "        text-align: right;\n",
       "    }\n",
       "</style>\n",
       "<table border=\"1\" class=\"dataframe\">\n",
       "  <thead>\n",
       "    <tr style=\"text-align: right;\">\n",
       "      <th></th>\n",
       "      <th>sequence name</th>\n",
       "      <th>tag ID</th>\n",
       "      <th>timestamp</th>\n",
       "      <th>date time</th>\n",
       "      <th>tag x coordinate</th>\n",
       "      <th>tag y coordinate</th>\n",
       "      <th>tag z coordinate</th>\n",
       "      <th>activity</th>\n",
       "    </tr>\n",
       "  </thead>\n",
       "  <tbody>\n",
       "    <tr>\n",
       "      <th>count</th>\n",
       "      <td>164859</td>\n",
       "      <td>164859</td>\n",
       "      <td>1.648590e+05</td>\n",
       "      <td>164859</td>\n",
       "      <td>164859.000000</td>\n",
       "      <td>164859.000000</td>\n",
       "      <td>164859.000000</td>\n",
       "      <td>164859</td>\n",
       "    </tr>\n",
       "    <tr>\n",
       "      <th>unique</th>\n",
       "      <td>25</td>\n",
       "      <td>4</td>\n",
       "      <td>NaN</td>\n",
       "      <td>164833</td>\n",
       "      <td>NaN</td>\n",
       "      <td>NaN</td>\n",
       "      <td>NaN</td>\n",
       "      <td>11</td>\n",
       "    </tr>\n",
       "    <tr>\n",
       "      <th>top</th>\n",
       "      <td>E03</td>\n",
       "      <td>010-000-024-033</td>\n",
       "      <td>NaN</td>\n",
       "      <td>27.05.2009 12:09:03:780</td>\n",
       "      <td>NaN</td>\n",
       "      <td>NaN</td>\n",
       "      <td>NaN</td>\n",
       "      <td>lying</td>\n",
       "    </tr>\n",
       "    <tr>\n",
       "      <th>freq</th>\n",
       "      <td>9112</td>\n",
       "      <td>43525</td>\n",
       "      <td>NaN</td>\n",
       "      <td>4</td>\n",
       "      <td>NaN</td>\n",
       "      <td>NaN</td>\n",
       "      <td>NaN</td>\n",
       "      <td>54480</td>\n",
       "    </tr>\n",
       "    <tr>\n",
       "      <th>mean</th>\n",
       "      <td>NaN</td>\n",
       "      <td>NaN</td>\n",
       "      <td>6.337902e+17</td>\n",
       "      <td>NaN</td>\n",
       "      <td>2.811340</td>\n",
       "      <td>1.696876</td>\n",
       "      <td>0.418210</td>\n",
       "      <td>NaN</td>\n",
       "    </tr>\n",
       "    <tr>\n",
       "      <th>std</th>\n",
       "      <td>NaN</td>\n",
       "      <td>NaN</td>\n",
       "      <td>5.518151e+10</td>\n",
       "      <td>NaN</td>\n",
       "      <td>0.916224</td>\n",
       "      <td>0.473770</td>\n",
       "      <td>0.379126</td>\n",
       "      <td>NaN</td>\n",
       "    </tr>\n",
       "    <tr>\n",
       "      <th>min</th>\n",
       "      <td>NaN</td>\n",
       "      <td>NaN</td>\n",
       "      <td>6.337901e+17</td>\n",
       "      <td>NaN</td>\n",
       "      <td>-0.278698</td>\n",
       "      <td>-0.494428</td>\n",
       "      <td>-2.543609</td>\n",
       "      <td>NaN</td>\n",
       "    </tr>\n",
       "    <tr>\n",
       "      <th>25%</th>\n",
       "      <td>NaN</td>\n",
       "      <td>NaN</td>\n",
       "      <td>6.337901e+17</td>\n",
       "      <td>NaN</td>\n",
       "      <td>2.155760</td>\n",
       "      <td>1.350500</td>\n",
       "      <td>0.171623</td>\n",
       "      <td>NaN</td>\n",
       "    </tr>\n",
       "    <tr>\n",
       "      <th>50%</th>\n",
       "      <td>NaN</td>\n",
       "      <td>NaN</td>\n",
       "      <td>6.337902e+17</td>\n",
       "      <td>NaN</td>\n",
       "      <td>2.880421</td>\n",
       "      <td>1.634168</td>\n",
       "      <td>0.366284</td>\n",
       "      <td>NaN</td>\n",
       "    </tr>\n",
       "    <tr>\n",
       "      <th>75%</th>\n",
       "      <td>NaN</td>\n",
       "      <td>NaN</td>\n",
       "      <td>6.337902e+17</td>\n",
       "      <td>NaN</td>\n",
       "      <td>3.414092</td>\n",
       "      <td>2.039324</td>\n",
       "      <td>0.613118</td>\n",
       "      <td>NaN</td>\n",
       "    </tr>\n",
       "    <tr>\n",
       "      <th>max</th>\n",
       "      <td>NaN</td>\n",
       "      <td>NaN</td>\n",
       "      <td>6.337903e+17</td>\n",
       "      <td>NaN</td>\n",
       "      <td>5.758173</td>\n",
       "      <td>3.978097</td>\n",
       "      <td>2.606105</td>\n",
       "      <td>NaN</td>\n",
       "    </tr>\n",
       "  </tbody>\n",
       "</table>\n",
       "</div>"
      ],
      "text/plain": [
       "       sequence name           tag ID     timestamp                date time  \\\n",
       "count         164859           164859  1.648590e+05                   164859   \n",
       "unique            25                4           NaN                   164833   \n",
       "top              E03  010-000-024-033           NaN  27.05.2009 12:09:03:780   \n",
       "freq            9112            43525           NaN                        4   \n",
       "mean             NaN              NaN  6.337902e+17                      NaN   \n",
       "std              NaN              NaN  5.518151e+10                      NaN   \n",
       "min              NaN              NaN  6.337901e+17                      NaN   \n",
       "25%              NaN              NaN  6.337901e+17                      NaN   \n",
       "50%              NaN              NaN  6.337902e+17                      NaN   \n",
       "75%              NaN              NaN  6.337902e+17                      NaN   \n",
       "max              NaN              NaN  6.337903e+17                      NaN   \n",
       "\n",
       "        tag x coordinate  tag y coordinate  tag z coordinate activity  \n",
       "count      164859.000000     164859.000000     164859.000000   164859  \n",
       "unique               NaN               NaN               NaN       11  \n",
       "top                  NaN               NaN               NaN    lying  \n",
       "freq                 NaN               NaN               NaN    54480  \n",
       "mean            2.811340          1.696876          0.418210      NaN  \n",
       "std             0.916224          0.473770          0.379126      NaN  \n",
       "min            -0.278698         -0.494428         -2.543609      NaN  \n",
       "25%             2.155760          1.350500          0.171623      NaN  \n",
       "50%             2.880421          1.634168          0.366284      NaN  \n",
       "75%             3.414092          2.039324          0.613118      NaN  \n",
       "max             5.758173          3.978097          2.606105      NaN  "
      ]
     },
     "execution_count": 8,
     "metadata": {},
     "output_type": "execute_result"
    }
   ],
   "source": [
    "df.describe(include='all')"
   ]
  },
  {
   "cell_type": "code",
   "execution_count": 9,
   "id": "bf9db4f7",
   "metadata": {},
   "outputs": [
    {
     "name": "stdout",
     "output_type": "stream",
     "text": [
      "name of column - sequence name\n",
      "number of unique values - 25\n",
      "unique values - ['A01' 'A02' 'A03' 'A04' 'A05' 'B01' 'B02' 'B03' 'B04' 'B05' 'C01' 'C02'\n",
      " 'C03' 'C04' 'C05' 'D01' 'D02' 'D03' 'D04' 'D05' 'E01' 'E02' 'E03' 'E04'\n",
      " 'E05']\n",
      "******************************\n",
      "\n",
      "name of column - tag ID\n",
      "number of unique values - 4\n",
      "unique values - ['020-000-033-111' '020-000-032-221' '010-000-024-033' '010-000-030-096']\n",
      "******************************\n",
      "\n",
      "name of column - activity\n",
      "number of unique values - 11\n",
      "unique values - ['walking' 'sitting down' 'sitting' 'standing up from sitting' 'falling'\n",
      " 'lying' 'standing up from lying' 'lying down' 'sitting on the ground'\n",
      " 'standing up from sitting on the ground' 'on all fours']\n",
      "******************************\n",
      "\n"
     ]
    }
   ],
   "source": [
    "categorical_values = df.select_dtypes(include='object').columns.to_list()\n",
    "categorical_values.remove(\"date time\") \n",
    "for i in categorical_values:\n",
    "    print(\"name of column - {}\".format(i))\n",
    "    print(\"number of unique values -\", df[i].nunique())\n",
    "    print(\"unique values -\", df[i].unique()) \n",
    "    print('*'*30)\n",
    "    print()"
   ]
  },
  {
   "cell_type": "code",
   "execution_count": 11,
   "id": "78d217a9",
   "metadata": {},
   "outputs": [
    {
     "name": "stderr",
     "output_type": "stream",
     "text": [
      "C:\\Users\\semam\\anaconda3\\lib\\site-packages\\seaborn\\_decorators.py:36: FutureWarning: Pass the following variable as a keyword arg: x. From version 0.12, the only valid positional argument will be `data`, and passing other arguments without an explicit keyword will result in an error or misinterpretation.\n",
      "  warnings.warn(\n"
     ]
    },
    {
     "data": {
      "image/png": "[encoded data removed]",
      "text/plain": [
       "<Figure size 432x288 with 1 Axes>"
      ]
     },
     "metadata": {
      "needs_background": "light"
     },
     "output_type": "display_data"
    },
    {
     "name": "stderr",
     "output_type": "stream",
     "text": [
      "C:\\Users\\semam\\anaconda3\\lib\\site-packages\\seaborn\\_decorators.py:36: FutureWarning: Pass the following variable as a keyword arg: x. From version 0.12, the only valid positional argument will be `data`, and passing other arguments without an explicit keyword will result in an error or misinterpretation.\n",
      "  warnings.warn(\n"
     ]
    },
    {
     "data": {
      "image/png": "[encoded data removed]",
      "text/plain": [
       "<Figure size 432x288 with 1 Axes>"
      ]
     },
     "metadata": {
      "needs_background": "light"
     },
     "output_type": "display_data"
    },
    {
     "name": "stderr",
     "output_type": "stream",
     "text": [
      "C:\\Users\\semam\\anaconda3\\lib\\site-packages\\seaborn\\_decorators.py:36: FutureWarning: Pass the following variable as a keyword arg: x. From version 0.12, the only valid positional argument will be `data`, and passing other arguments without an explicit keyword will result in an error or misinterpretation.\n",
      "  warnings.warn(\n"
     ]
    },
    {
     "data": {
      "image/png": "[encoded data removed]",
      "text/plain": [
       "<Figure size 432x288 with 1 Axes>"
      ]
     },
     "metadata": {
      "needs_background": "light"
     },
     "output_type": "display_data"
    },
    {
     "name": "stderr",
     "output_type": "stream",
     "text": [
      "C:\\Users\\semam\\anaconda3\\lib\\site-packages\\seaborn\\_decorators.py:36: FutureWarning: Pass the following variable as a keyword arg: x. From version 0.12, the only valid positional argument will be `data`, and passing other arguments without an explicit keyword will result in an error or misinterpretation.\n",
      "  warnings.warn(\n"
     ]
    },
    {
     "data": {
      "image/png": "[encoded data removed]",
      "text/plain": [
       "<Figure size 432x288 with 1 Axes>"
      ]
     },
     "metadata": {
      "needs_background": "light"
     },
     "output_type": "display_data"
    }
   ],
   "source": [
    "for i in df.select_dtypes(include=['int64', 'float64']):\n",
    "    sns.boxplot(df[i]) \n",
    "    plt.show()"
   ]
  },
  {
   "cell_type": "code",
   "execution_count": 13,
   "id": "4ed9a5a3",
   "metadata": {},
   "outputs": [
    {
     "name": "stderr",
     "output_type": "stream",
     "text": [
      "C:\\Users\\semam\\anaconda3\\lib\\site-packages\\seaborn\\distributions.py:2619: FutureWarning: `distplot` is a deprecated function and will be removed in a future version. Please adapt your code to use either `displot` (a figure-level function with similar flexibility) or `histplot` (an axes-level function for histograms).\n",
      "  warnings.warn(msg, FutureWarning)\n"
     ]
    },
    {
     "data": {
      "image/png": "[encoded data removed]",
      "text/plain": [
       "<Figure size 432x288 with 1 Axes>"
      ]
     },
     "metadata": {
      "needs_background": "light"
     },
     "output_type": "display_data"
    },
    {
     "name": "stderr",
     "output_type": "stream",
     "text": [
      "C:\\Users\\semam\\anaconda3\\lib\\site-packages\\seaborn\\distributions.py:2619: FutureWarning: `distplot` is a deprecated function and will be removed in a future version. Please adapt your code to use either `displot` (a figure-level function with similar flexibility) or `histplot` (an axes-level function for histograms).\n",
      "  warnings.warn(msg, FutureWarning)\n"
     ]
    },
    {
     "data": {
      "image/png": "[encoded data removed]",
      "text/plain": [
       "<Figure size 432x288 with 1 Axes>"
      ]
     },
     "metadata": {
      "needs_background": "light"
     },
     "output_type": "display_data"
    },
    {
     "name": "stderr",
     "output_type": "stream",
     "text": [
      "C:\\Users\\semam\\anaconda3\\lib\\site-packages\\seaborn\\distributions.py:2619: FutureWarning: `distplot` is a deprecated function and will be removed in a future version. Please adapt your code to use either `displot` (a figure-level function with similar flexibility) or `histplot` (an axes-level function for histograms).\n",
      "  warnings.warn(msg, FutureWarning)\n"
     ]
    },
    {
     "data": {
      "image/png": "[encoded data removed]",
      "text/plain": [
       "<Figure size 432x288 with 1 Axes>"
      ]
     },
     "metadata": {
      "needs_background": "light"
     },
     "output_type": "display_data"
    },
    {
     "name": "stderr",
     "output_type": "stream",
     "text": [
      "C:\\Users\\semam\\anaconda3\\lib\\site-packages\\seaborn\\distributions.py:2619: FutureWarning: `distplot` is a deprecated function and will be removed in a future version. Please adapt your code to use either `displot` (a figure-level function with similar flexibility) or `histplot` (an axes-level function for histograms).\n",
      "  warnings.warn(msg, FutureWarning)\n"
     ]
    },
    {
     "data": {
      "image/png": "[encoded data removed]",
      "text/plain": [
       "<Figure size 432x288 with 1 Axes>"
      ]
     },
     "metadata": {
      "needs_background": "light"
     },
     "output_type": "display_data"
    }
   ],
   "source": [
    "for i in df.select_dtypes(include=['int64', 'float64']):\n",
    "    sns.distplot(df[i]) # Distribution plot to check how data is distributed\n",
    "    plt.show()"
   ]
  },
  {
   "cell_type": "code",
   "execution_count": 18,
   "id": "e75a7502",
   "metadata": {},
   "outputs": [
    {
     "data": {
      "text/plain": [
       "<mpl_toolkits.mplot3d.art3d.Path3DCollection at 0x1ebc9b5dd90>"
      ]
     },
     "execution_count": 18,
     "metadata": {},
     "output_type": "execute_result"
    },
    {
     "data": {
      "image/png": "[encoded data removed]",
      "text/plain": [
       "<Figure size 432x288 with 1 Axes>"
      ]
     },
     "metadata": {
      "needs_background": "light"
     },
     "output_type": "display_data"
    }
   ],
   "source": [
    "fig = plt.figure()\n",
    "ax = plt.axes(projection='3d')\n",
    "ax.scatter3D(df['tag x coordinate'],\n",
    "             df['tag y coordinate'],\n",
    "             df['tag z coordinate'],\n",
    "             c = df['tag z coordinate'], \n",
    "             cmap='viridis')"
   ]
  },
  {
   "cell_type": "code",
   "execution_count": 21,
   "id": "c72e246f",
   "metadata": {},
   "outputs": [],
   "source": [
    "def categorical_to_numeric(df):\n",
    "\n",
    "    from sklearn.preprocessing import LabelEncoder\n",
    "\n",
    "    sequencename_encoder =  LabelEncoder()\n",
    "    tagID_encoder = LabelEncoder()\n",
    "    activity_encoder = LabelEncoder()\n",
    "\n",
    "    df['sequence name'] = sequencename_encoder.fit_transform(df['sequence name'])\n",
    "    df['tag ID'] = tagID_encoder.fit_transform(df['tag ID'])\n",
    "    df['activity'] = activity_encoder.fit_transform(df['activity'])\n",
    "    \n",
    "    return \"categorical values encoded successfully\""
   ]
  },
  {
   "cell_type": "code",
   "execution_count": 27,
   "id": "14f0d9a0",
   "metadata": {},
   "outputs": [],
   "source": [
    "def split_datetime_column(df):\n",
    "    from datetime import datetime as dt \n",
    "    \n",
    "    df['date time'] = pd.to_datetime(df['date time'], format=\"%d.%m.%Y %H:%M:%S:%f\")\n",
    "    \n",
    "    df['year'] = df['date time'].dt.year\n",
    "    df['month'] = df['date time'].dt.month\n",
    "    df['day'] = df['date time'].dt.day\n",
    "    df['hour'] = df['date time'].dt.hour\n",
    "    df['minute'] = df['date time'].dt.minute\n",
    "    df['second'] = df['date time'].dt.second\n",
    "    df['microsecond'] = df['date time'].dt.microsecond\n",
    "    \n",
    "    del df['date time'] \n",
    "    \n",
    "    return 'column date time splitted successfully'"
   ]
  },
  {
   "cell_type": "code",
   "execution_count": 23,
   "id": "5e104b5c",
   "metadata": {},
   "outputs": [
    {
     "data": {
      "text/plain": [
       "'categorical values encoded successfully'"
      ]
     },
     "execution_count": 23,
     "metadata": {},
     "output_type": "execute_result"
    }
   ],
   "source": [
    "categorical_to_numeric(df)"
   ]
  },
  {
   "cell_type": "code",
   "execution_count": 24,
   "id": "28bf6ec2",
   "metadata": {},
   "outputs": [
    {
     "data": {
      "text/html": [
       "<div>\n",
       "<style scoped>\n",
       "    .dataframe tbody tr th:only-of-type {\n",
       "        vertical-align: middle;\n",
       "    }\n",
       "\n",
       "    .dataframe tbody tr th {\n",
       "        vertical-align: top;\n",
       "    }\n",
       "\n",
       "    .dataframe thead th {\n",
       "        text-align: right;\n",
       "    }\n",
       "</style>\n",
       "<table border=\"1\" class=\"dataframe\">\n",
       "  <thead>\n",
       "    <tr style=\"text-align: right;\">\n",
       "      <th></th>\n",
       "      <th>sequence name</th>\n",
       "      <th>tag ID</th>\n",
       "      <th>timestamp</th>\n",
       "      <th>date time</th>\n",
       "      <th>tag x coordinate</th>\n",
       "      <th>tag y coordinate</th>\n",
       "      <th>tag z coordinate</th>\n",
       "      <th>activity</th>\n",
       "    </tr>\n",
       "  </thead>\n",
       "  <tbody>\n",
       "    <tr>\n",
       "      <th>0</th>\n",
       "      <td>0</td>\n",
       "      <td>3</td>\n",
       "      <td>633790226051820913</td>\n",
       "      <td>27.05.2009 14:03:25:183</td>\n",
       "      <td>4.291954</td>\n",
       "      <td>1.781140</td>\n",
       "      <td>1.344495</td>\n",
       "      <td>10</td>\n",
       "    </tr>\n",
       "    <tr>\n",
       "      <th>1</th>\n",
       "      <td>0</td>\n",
       "      <td>2</td>\n",
       "      <td>633790226052091205</td>\n",
       "      <td>27.05.2009 14:03:25:210</td>\n",
       "      <td>4.359101</td>\n",
       "      <td>1.826456</td>\n",
       "      <td>0.968821</td>\n",
       "      <td>10</td>\n",
       "    </tr>\n",
       "    <tr>\n",
       "      <th>2</th>\n",
       "      <td>0</td>\n",
       "      <td>0</td>\n",
       "      <td>633790226052361498</td>\n",
       "      <td>27.05.2009 14:03:25:237</td>\n",
       "      <td>4.087835</td>\n",
       "      <td>1.879999</td>\n",
       "      <td>0.466983</td>\n",
       "      <td>10</td>\n",
       "    </tr>\n",
       "    <tr>\n",
       "      <th>3</th>\n",
       "      <td>0</td>\n",
       "      <td>1</td>\n",
       "      <td>633790226052631792</td>\n",
       "      <td>27.05.2009 14:03:25:263</td>\n",
       "      <td>4.324462</td>\n",
       "      <td>2.072460</td>\n",
       "      <td>0.488065</td>\n",
       "      <td>10</td>\n",
       "    </tr>\n",
       "    <tr>\n",
       "      <th>4</th>\n",
       "      <td>0</td>\n",
       "      <td>3</td>\n",
       "      <td>633790226052902087</td>\n",
       "      <td>27.05.2009 14:03:25:290</td>\n",
       "      <td>4.364077</td>\n",
       "      <td>1.767691</td>\n",
       "      <td>1.299996</td>\n",
       "      <td>10</td>\n",
       "    </tr>\n",
       "  </tbody>\n",
       "</table>\n",
       "</div>"
      ],
      "text/plain": [
       "   sequence name  tag ID           timestamp                date time  \\\n",
       "0              0       3  633790226051820913  27.05.2009 14:03:25:183   \n",
       "1              0       2  633790226052091205  27.05.2009 14:03:25:210   \n",
       "2              0       0  633790226052361498  27.05.2009 14:03:25:237   \n",
       "3              0       1  633790226052631792  27.05.2009 14:03:25:263   \n",
       "4              0       3  633790226052902087  27.05.2009 14:03:25:290   \n",
       "\n",
       "   tag x coordinate  tag y coordinate  tag z coordinate  activity  \n",
       "0          4.291954          1.781140          1.344495        10  \n",
       "1          4.359101          1.826456          0.968821        10  \n",
       "2          4.087835          1.879999          0.466983        10  \n",
       "3          4.324462          2.072460          0.488065        10  \n",
       "4          4.364077          1.767691          1.299996        10  "
      ]
     },
     "execution_count": 24,
     "metadata": {},
     "output_type": "execute_result"
    }
   ],
   "source": [
    "df.head()"
   ]
  },
  {
   "cell_type": "code",
   "execution_count": 28,
   "id": "769e5c38",
   "metadata": {},
   "outputs": [
    {
     "data": {
      "text/plain": [
       "'column date time splitted successfully'"
      ]
     },
     "execution_count": 28,
     "metadata": {},
     "output_type": "execute_result"
    }
   ],
   "source": [
    "split_datetime_column(df)"
   ]
  },
  {
   "cell_type": "code",
   "execution_count": 29,
   "id": "a6879d36",
   "metadata": {},
   "outputs": [
    {
     "data": {
      "text/html": [
       "<div>\n",
       "<style scoped>\n",
       "    .dataframe tbody tr th:only-of-type {\n",
       "        vertical-align: middle;\n",
       "    }\n",
       "\n",
       "    .dataframe tbody tr th {\n",
       "        vertical-align: top;\n",
       "    }\n",
       "\n",
       "    .dataframe thead th {\n",
       "        text-align: right;\n",
       "    }\n",
       "</style>\n",
       "<table border=\"1\" class=\"dataframe\">\n",
       "  <thead>\n",
       "    <tr style=\"text-align: right;\">\n",
       "      <th></th>\n",
       "      <th>sequence name</th>\n",
       "      <th>tag ID</th>\n",
       "      <th>timestamp</th>\n",
       "      <th>tag x coordinate</th>\n",
       "      <th>tag y coordinate</th>\n",
       "      <th>tag z coordinate</th>\n",
       "      <th>activity</th>\n",
       "      <th>year</th>\n",
       "      <th>month</th>\n",
       "      <th>day</th>\n",
       "      <th>hour</th>\n",
       "      <th>minute</th>\n",
       "      <th>second</th>\n",
       "      <th>microsecond</th>\n",
       "    </tr>\n",
       "  </thead>\n",
       "  <tbody>\n",
       "    <tr>\n",
       "      <th>0</th>\n",
       "      <td>0</td>\n",
       "      <td>3</td>\n",
       "      <td>633790226051820913</td>\n",
       "      <td>4.291954</td>\n",
       "      <td>1.781140</td>\n",
       "      <td>1.344495</td>\n",
       "      <td>10</td>\n",
       "      <td>2009</td>\n",
       "      <td>5</td>\n",
       "      <td>27</td>\n",
       "      <td>14</td>\n",
       "      <td>3</td>\n",
       "      <td>25</td>\n",
       "      <td>183000</td>\n",
       "    </tr>\n",
       "    <tr>\n",
       "      <th>1</th>\n",
       "      <td>0</td>\n",
       "      <td>2</td>\n",
       "      <td>633790226052091205</td>\n",
       "      <td>4.359101</td>\n",
       "      <td>1.826456</td>\n",
       "      <td>0.968821</td>\n",
       "      <td>10</td>\n",
       "      <td>2009</td>\n",
       "      <td>5</td>\n",
       "      <td>27</td>\n",
       "      <td>14</td>\n",
       "      <td>3</td>\n",
       "      <td>25</td>\n",
       "      <td>210000</td>\n",
       "    </tr>\n",
       "    <tr>\n",
       "      <th>2</th>\n",
       "      <td>0</td>\n",
       "      <td>0</td>\n",
       "      <td>633790226052361498</td>\n",
       "      <td>4.087835</td>\n",
       "      <td>1.879999</td>\n",
       "      <td>0.466983</td>\n",
       "      <td>10</td>\n",
       "      <td>2009</td>\n",
       "      <td>5</td>\n",
       "      <td>27</td>\n",
       "      <td>14</td>\n",
       "      <td>3</td>\n",
       "      <td>25</td>\n",
       "      <td>237000</td>\n",
       "    </tr>\n",
       "    <tr>\n",
       "      <th>3</th>\n",
       "      <td>0</td>\n",
       "      <td>1</td>\n",
       "      <td>633790226052631792</td>\n",
       "      <td>4.324462</td>\n",
       "      <td>2.072460</td>\n",
       "      <td>0.488065</td>\n",
       "      <td>10</td>\n",
       "      <td>2009</td>\n",
       "      <td>5</td>\n",
       "      <td>27</td>\n",
       "      <td>14</td>\n",
       "      <td>3</td>\n",
       "      <td>25</td>\n",
       "      <td>263000</td>\n",
       "    </tr>\n",
       "    <tr>\n",
       "      <th>4</th>\n",
       "      <td>0</td>\n",
       "      <td>3</td>\n",
       "      <td>633790226052902087</td>\n",
       "      <td>4.364077</td>\n",
       "      <td>1.767691</td>\n",
       "      <td>1.299996</td>\n",
       "      <td>10</td>\n",
       "      <td>2009</td>\n",
       "      <td>5</td>\n",
       "      <td>27</td>\n",
       "      <td>14</td>\n",
       "      <td>3</td>\n",
       "      <td>25</td>\n",
       "      <td>290000</td>\n",
       "    </tr>\n",
       "  </tbody>\n",
       "</table>\n",
       "</div>"
      ],
      "text/plain": [
       "   sequence name  tag ID           timestamp  tag x coordinate  \\\n",
       "0              0       3  633790226051820913          4.291954   \n",
       "1              0       2  633790226052091205          4.359101   \n",
       "2              0       0  633790226052361498          4.087835   \n",
       "3              0       1  633790226052631792          4.324462   \n",
       "4              0       3  633790226052902087          4.364077   \n",
       "\n",
       "   tag y coordinate  tag z coordinate  activity  year  month  day  hour  \\\n",
       "0          1.781140          1.344495        10  2009      5   27    14   \n",
       "1          1.826456          0.968821        10  2009      5   27    14   \n",
       "2          1.879999          0.466983        10  2009      5   27    14   \n",
       "3          2.072460          0.488065        10  2009      5   27    14   \n",
       "4          1.767691          1.299996        10  2009      5   27    14   \n",
       "\n",
       "   minute  second  microsecond  \n",
       "0       3      25       183000  \n",
       "1       3      25       210000  \n",
       "2       3      25       237000  \n",
       "3       3      25       263000  \n",
       "4       3      25       290000  "
      ]
     },
     "execution_count": 29,
     "metadata": {},
     "output_type": "execute_result"
    }
   ],
   "source": [
    "df.head()"
   ]
  },
  {
   "cell_type": "code",
   "execution_count": 31,
   "id": "0fda099a",
   "metadata": {},
   "outputs": [
    {
     "data": {
      "image/png": "[encoded data removed]",
      "text/plain": [
       "<Figure size 1152x864 with 2 Axes>"
      ]
     },
     "metadata": {
      "needs_background": "light"
     },
     "output_type": "display_data"
    }
   ],
   "source": [
    "corr = df.corr()\n",
    "\n",
    "plt.figure(figsize=(16,12))\n",
    "sns.heatmap(corr, annot=True, cmap='viridis')\n",
    "plt.title(\"Features Correlation Heatmap\")\n",
    "plt.show()"
   ]
  },
  {
   "cell_type": "code",
   "execution_count": 34,
   "id": "bdbd772b",
   "metadata": {},
   "outputs": [
    {
     "data": {
      "text/html": [
       "<div>\n",
       "<style scoped>\n",
       "    .dataframe tbody tr th:only-of-type {\n",
       "        vertical-align: middle;\n",
       "    }\n",
       "\n",
       "    .dataframe tbody tr th {\n",
       "        vertical-align: top;\n",
       "    }\n",
       "\n",
       "    .dataframe thead th {\n",
       "        text-align: right;\n",
       "    }\n",
       "</style>\n",
       "<table border=\"1\" class=\"dataframe\">\n",
       "  <thead>\n",
       "    <tr style=\"text-align: right;\">\n",
       "      <th></th>\n",
       "      <th>count</th>\n",
       "      <th>mean</th>\n",
       "      <th>std</th>\n",
       "      <th>min</th>\n",
       "      <th>25%</th>\n",
       "      <th>50%</th>\n",
       "      <th>75%</th>\n",
       "      <th>max</th>\n",
       "    </tr>\n",
       "  </thead>\n",
       "  <tbody>\n",
       "    <tr>\n",
       "      <th>sequence name</th>\n",
       "      <td>164859.0</td>\n",
       "      <td>1.299945e+01</td>\n",
       "      <td>7.326742e+00</td>\n",
       "      <td>0.000000e+00</td>\n",
       "      <td>7.000000e+00</td>\n",
       "      <td>1.300000e+01</td>\n",
       "      <td>2.000000e+01</td>\n",
       "      <td>2.400000e+01</td>\n",
       "    </tr>\n",
       "    <tr>\n",
       "      <th>tag ID</th>\n",
       "      <td>164859.0</td>\n",
       "      <td>1.430974e+00</td>\n",
       "      <td>1.098905e+00</td>\n",
       "      <td>0.000000e+00</td>\n",
       "      <td>0.000000e+00</td>\n",
       "      <td>1.000000e+00</td>\n",
       "      <td>2.000000e+00</td>\n",
       "      <td>3.000000e+00</td>\n",
       "    </tr>\n",
       "    <tr>\n",
       "      <th>timestamp</th>\n",
       "      <td>164859.0</td>\n",
       "      <td>6.337902e+17</td>\n",
       "      <td>5.518151e+10</td>\n",
       "      <td>6.337901e+17</td>\n",
       "      <td>6.337901e+17</td>\n",
       "      <td>6.337902e+17</td>\n",
       "      <td>6.337902e+17</td>\n",
       "      <td>6.337903e+17</td>\n",
       "    </tr>\n",
       "    <tr>\n",
       "      <th>tag x coordinate</th>\n",
       "      <td>164859.0</td>\n",
       "      <td>2.811340e+00</td>\n",
       "      <td>9.162241e-01</td>\n",
       "      <td>-2.786983e-01</td>\n",
       "      <td>2.155760e+00</td>\n",
       "      <td>2.880421e+00</td>\n",
       "      <td>3.414092e+00</td>\n",
       "      <td>5.758173e+00</td>\n",
       "    </tr>\n",
       "    <tr>\n",
       "      <th>tag y coordinate</th>\n",
       "      <td>164859.0</td>\n",
       "      <td>1.696876e+00</td>\n",
       "      <td>4.737703e-01</td>\n",
       "      <td>-4.944278e-01</td>\n",
       "      <td>1.350500e+00</td>\n",
       "      <td>1.634168e+00</td>\n",
       "      <td>2.039324e+00</td>\n",
       "      <td>3.978097e+00</td>\n",
       "    </tr>\n",
       "    <tr>\n",
       "      <th>tag z coordinate</th>\n",
       "      <td>164859.0</td>\n",
       "      <td>4.182099e-01</td>\n",
       "      <td>3.791256e-01</td>\n",
       "      <td>-2.543609e+00</td>\n",
       "      <td>1.716229e-01</td>\n",
       "      <td>3.662842e-01</td>\n",
       "      <td>6.131181e-01</td>\n",
       "      <td>2.606105e+00</td>\n",
       "    </tr>\n",
       "    <tr>\n",
       "      <th>activity</th>\n",
       "      <td>164859.0</td>\n",
       "      <td>4.627730e+00</td>\n",
       "      <td>3.472324e+00</td>\n",
       "      <td>0.000000e+00</td>\n",
       "      <td>1.000000e+00</td>\n",
       "      <td>4.000000e+00</td>\n",
       "      <td>7.000000e+00</td>\n",
       "      <td>1.000000e+01</td>\n",
       "    </tr>\n",
       "    <tr>\n",
       "      <th>year</th>\n",
       "      <td>164859.0</td>\n",
       "      <td>2.009000e+03</td>\n",
       "      <td>0.000000e+00</td>\n",
       "      <td>2.009000e+03</td>\n",
       "      <td>2.009000e+03</td>\n",
       "      <td>2.009000e+03</td>\n",
       "      <td>2.009000e+03</td>\n",
       "      <td>2.009000e+03</td>\n",
       "    </tr>\n",
       "    <tr>\n",
       "      <th>month</th>\n",
       "      <td>164859.0</td>\n",
       "      <td>5.000000e+00</td>\n",
       "      <td>0.000000e+00</td>\n",
       "      <td>5.000000e+00</td>\n",
       "      <td>5.000000e+00</td>\n",
       "      <td>5.000000e+00</td>\n",
       "      <td>5.000000e+00</td>\n",
       "      <td>5.000000e+00</td>\n",
       "    </tr>\n",
       "    <tr>\n",
       "      <th>day</th>\n",
       "      <td>164859.0</td>\n",
       "      <td>2.700000e+01</td>\n",
       "      <td>0.000000e+00</td>\n",
       "      <td>2.700000e+01</td>\n",
       "      <td>2.700000e+01</td>\n",
       "      <td>2.700000e+01</td>\n",
       "      <td>2.700000e+01</td>\n",
       "      <td>2.700000e+01</td>\n",
       "    </tr>\n",
       "    <tr>\n",
       "      <th>hour</th>\n",
       "      <td>164859.0</td>\n",
       "      <td>1.282346e+01</td>\n",
       "      <td>1.470954e+00</td>\n",
       "      <td>1.100000e+01</td>\n",
       "      <td>1.100000e+01</td>\n",
       "      <td>1.300000e+01</td>\n",
       "      <td>1.400000e+01</td>\n",
       "      <td>1.500000e+01</td>\n",
       "    </tr>\n",
       "    <tr>\n",
       "      <th>minute</th>\n",
       "      <td>164859.0</td>\n",
       "      <td>2.517403e+01</td>\n",
       "      <td>1.448488e+01</td>\n",
       "      <td>0.000000e+00</td>\n",
       "      <td>1.200000e+01</td>\n",
       "      <td>2.500000e+01</td>\n",
       "      <td>3.500000e+01</td>\n",
       "      <td>5.900000e+01</td>\n",
       "    </tr>\n",
       "    <tr>\n",
       "      <th>second</th>\n",
       "      <td>164859.0</td>\n",
       "      <td>2.947055e+01</td>\n",
       "      <td>1.730656e+01</td>\n",
       "      <td>0.000000e+00</td>\n",
       "      <td>1.500000e+01</td>\n",
       "      <td>2.900000e+01</td>\n",
       "      <td>4.400000e+01</td>\n",
       "      <td>5.900000e+01</td>\n",
       "    </tr>\n",
       "    <tr>\n",
       "      <th>microsecond</th>\n",
       "      <td>164859.0</td>\n",
       "      <td>4.985503e+05</td>\n",
       "      <td>2.886208e+05</td>\n",
       "      <td>0.000000e+00</td>\n",
       "      <td>2.500000e+05</td>\n",
       "      <td>5.000000e+05</td>\n",
       "      <td>7.500000e+05</td>\n",
       "      <td>9.970000e+05</td>\n",
       "    </tr>\n",
       "  </tbody>\n",
       "</table>\n",
       "</div>"
      ],
      "text/plain": [
       "                     count          mean           std           min  \\\n",
       "sequence name     164859.0  1.299945e+01  7.326742e+00  0.000000e+00   \n",
       "tag ID            164859.0  1.430974e+00  1.098905e+00  0.000000e+00   \n",
       "timestamp         164859.0  6.337902e+17  5.518151e+10  6.337901e+17   \n",
       "tag x coordinate  164859.0  2.811340e+00  9.162241e-01 -2.786983e-01   \n",
       "tag y coordinate  164859.0  1.696876e+00  4.737703e-01 -4.944278e-01   \n",
       "tag z coordinate  164859.0  4.182099e-01  3.791256e-01 -2.543609e+00   \n",
       "activity          164859.0  4.627730e+00  3.472324e+00  0.000000e+00   \n",
       "year              164859.0  2.009000e+03  0.000000e+00  2.009000e+03   \n",
       "month             164859.0  5.000000e+00  0.000000e+00  5.000000e+00   \n",
       "day               164859.0  2.700000e+01  0.000000e+00  2.700000e+01   \n",
       "hour              164859.0  1.282346e+01  1.470954e+00  1.100000e+01   \n",
       "minute            164859.0  2.517403e+01  1.448488e+01  0.000000e+00   \n",
       "second            164859.0  2.947055e+01  1.730656e+01  0.000000e+00   \n",
       "microsecond       164859.0  4.985503e+05  2.886208e+05  0.000000e+00   \n",
       "\n",
       "                           25%           50%           75%           max  \n",
       "sequence name     7.000000e+00  1.300000e+01  2.000000e+01  2.400000e+01  \n",
       "tag ID            0.000000e+00  1.000000e+00  2.000000e+00  3.000000e+00  \n",
       "timestamp         6.337901e+17  6.337902e+17  6.337902e+17  6.337903e+17  \n",
       "tag x coordinate  2.155760e+00  2.880421e+00  3.414092e+00  5.758173e+00  \n",
       "tag y coordinate  1.350500e+00  1.634168e+00  2.039324e+00  3.978097e+00  \n",
       "tag z coordinate  1.716229e-01  3.662842e-01  6.131181e-01  2.606105e+00  \n",
       "activity          1.000000e+00  4.000000e+00  7.000000e+00  1.000000e+01  \n",
       "year              2.009000e+03  2.009000e+03  2.009000e+03  2.009000e+03  \n",
       "month             5.000000e+00  5.000000e+00  5.000000e+00  5.000000e+00  \n",
       "day               2.700000e+01  2.700000e+01  2.700000e+01  2.700000e+01  \n",
       "hour              1.100000e+01  1.300000e+01  1.400000e+01  1.500000e+01  \n",
       "minute            1.200000e+01  2.500000e+01  3.500000e+01  5.900000e+01  \n",
       "second            1.500000e+01  2.900000e+01  4.400000e+01  5.900000e+01  \n",
       "microsecond       2.500000e+05  5.000000e+05  7.500000e+05  9.970000e+05  "
      ]
     },
     "execution_count": 34,
     "metadata": {},
     "output_type": "execute_result"
    }
   ],
   "source": [
    "df.describe(include='all').T"
   ]
  },
  {
   "cell_type": "code",
   "execution_count": 35,
   "id": "646333c5",
   "metadata": {},
   "outputs": [
    {
     "name": "stdout",
     "output_type": "stream",
     "text": [
      "name of column - day\n",
      "number of unique values - 1\n",
      "unique values - [27]\n",
      "******************************\n",
      "\n",
      "name of column - month\n",
      "number of unique values - 1\n",
      "unique values - [5]\n",
      "******************************\n",
      "\n",
      "name of column - year\n",
      "number of unique values - 1\n",
      "unique values - [2009]\n",
      "******************************\n",
      "\n",
      "name of column - hour\n",
      "number of unique values - 5\n",
      "unique values - [14 13 15 11 12]\n",
      "******************************\n",
      "\n",
      "name of column - minute\n",
      "number of unique values - 52\n",
      "unique values - [ 3  4  5  6 10 11 12 13 17 18 19 20 22 23 24 25 29 30 31 32 21 26 27 28\n",
      " 33 34 37 38 39 40 45 46 47 48  7  8  9 35 36 44 49 50 51 52 53 59  0  1\n",
      "  2 14 15 16]\n",
      "******************************\n",
      "\n",
      "name of column - second\n",
      "number of unique values - 60\n",
      "unique values - [25 26 27 28 29 30 31 32 33 34 35 36 37 38 39 40 41 42 43 44 45 46 47 48\n",
      " 49 50 51 52 53 54 55 56 57 58 59  0  1  2  3  4  5  6  7  8  9 10 11 12\n",
      " 13 14 15 16 17 18 19 20 21 22 23 24]\n",
      "******************************\n",
      "\n",
      "name of column - microsecond\n",
      "number of unique values - 300\n",
      "unique values - [183000 210000 237000 263000 290000 317000 343000 397000 453000 480000\n",
      " 507000 533000 560000 640000 670000 697000 723000 750000 777000 857000\n",
      " 883000 913000 940000 993000  47000  73000 100000 127000 157000 370000\n",
      " 400000 427000 587000 613000 643000 830000 967000  20000 803000 887000\n",
      " 130000 373000 617000 860000 103000 347000 590000  77000 833000 320000\n",
      " 563000 807000  50000 293000 537000 780000  67000  93000 120000 147000\n",
      " 177000 203000 230000 283000 310000 337000 363000 390000 420000 447000\n",
      " 500000 527000 553000 580000 607000 633000 663000 717000 743000 770000\n",
      " 797000 823000 850000 877000 933000 960000 987000  13000  40000 257000\n",
      " 473000 690000 907000 150000 393000 637000 880000 367000 123000 610000\n",
      " 853000  97000 340000 583000 827000  70000 303000 330000 357000 413000\n",
      " 440000 493000 520000 547000 573000 600000 627000 657000 710000 763000\n",
      " 790000 817000 843000 870000 927000 953000 980000   7000  33000  60000\n",
      "  87000 143000 170000 197000 223000 250000 277000 383000 467000 683000\n",
      " 113000 387000 737000 900000 630000 873000 117000 360000 847000 603000\n",
      "  90000 333000 577000 820000  63000 307000 550000 793000 300000 327000\n",
      " 353000 380000 407000 437000 463000 490000 517000 570000 597000 623000\n",
      " 650000 680000 707000 733000 787000 813000 840000 867000 893000 923000\n",
      " 950000   3000  30000  57000  83000 110000 137000 220000 247000 273000\n",
      " 543000 760000 903000 930000 957000 983000 173000 200000 227000 417000\n",
      " 443000 470000 660000 687000 713000 653000 897000 977000 140000 167000\n",
      " 193000 410000 267000 483000 510000 727000 753000 997000 970000  23000\n",
      " 213000 240000 457000 700000 943000 513000 540000 593000 620000 647000\n",
      " 673000 757000 810000 837000 863000 890000 917000  27000  53000  80000\n",
      " 107000 133000 160000 187000 270000 297000 323000 350000 403000 567000\n",
      " 783000      0 377000 430000 243000 487000 730000 973000 217000 460000\n",
      " 703000 947000 190000 433000 677000 920000 163000 450000 477000 503000\n",
      " 667000 693000 720000 747000 910000 937000 963000  17000 153000 180000\n",
      " 233000 260000 990000 207000 423000 313000 557000 800000 287000  43000\n",
      " 530000 773000  37000 280000 523000  10000 253000 767000 497000 740000]\n",
      "******************************\n",
      "\n"
     ]
    }
   ],
   "source": [
    "datetime_columns = ['day', 'month', 'year', 'hour', 'minute', 'second', 'microsecond']\n",
    "\n",
    "for i in datetime_columns:\n",
    "    print(\"name of column - {}\".format(i))\n",
    "    print(\"number of unique values -\", df[i].nunique())\n",
    "    print(\"unique values -\", df[i].unique()) \n",
    "    print('*'*30)\n",
    "    print()"
   ]
  },
  {
   "cell_type": "code",
   "execution_count": 36,
   "id": "6c085b9b",
   "metadata": {},
   "outputs": [],
   "source": [
    "clean_df = df.drop(['day', 'month', 'year'], axis=1)"
   ]
  },
  {
   "cell_type": "code",
   "execution_count": 37,
   "id": "192f08af",
   "metadata": {},
   "outputs": [
    {
     "data": {
      "text/html": [
       "<div>\n",
       "<style scoped>\n",
       "    .dataframe tbody tr th:only-of-type {\n",
       "        vertical-align: middle;\n",
       "    }\n",
       "\n",
       "    .dataframe tbody tr th {\n",
       "        vertical-align: top;\n",
       "    }\n",
       "\n",
       "    .dataframe thead th {\n",
       "        text-align: right;\n",
       "    }\n",
       "</style>\n",
       "<table border=\"1\" class=\"dataframe\">\n",
       "  <thead>\n",
       "    <tr style=\"text-align: right;\">\n",
       "      <th></th>\n",
       "      <th>sequence name</th>\n",
       "      <th>tag ID</th>\n",
       "      <th>timestamp</th>\n",
       "      <th>tag x coordinate</th>\n",
       "      <th>tag y coordinate</th>\n",
       "      <th>tag z coordinate</th>\n",
       "      <th>activity</th>\n",
       "      <th>hour</th>\n",
       "      <th>minute</th>\n",
       "      <th>second</th>\n",
       "      <th>microsecond</th>\n",
       "    </tr>\n",
       "  </thead>\n",
       "  <tbody>\n",
       "    <tr>\n",
       "      <th>0</th>\n",
       "      <td>0</td>\n",
       "      <td>3</td>\n",
       "      <td>633790226051820913</td>\n",
       "      <td>4.291954</td>\n",
       "      <td>1.781140</td>\n",
       "      <td>1.344495</td>\n",
       "      <td>10</td>\n",
       "      <td>14</td>\n",
       "      <td>3</td>\n",
       "      <td>25</td>\n",
       "      <td>183000</td>\n",
       "    </tr>\n",
       "    <tr>\n",
       "      <th>1</th>\n",
       "      <td>0</td>\n",
       "      <td>2</td>\n",
       "      <td>633790226052091205</td>\n",
       "      <td>4.359101</td>\n",
       "      <td>1.826456</td>\n",
       "      <td>0.968821</td>\n",
       "      <td>10</td>\n",
       "      <td>14</td>\n",
       "      <td>3</td>\n",
       "      <td>25</td>\n",
       "      <td>210000</td>\n",
       "    </tr>\n",
       "    <tr>\n",
       "      <th>2</th>\n",
       "      <td>0</td>\n",
       "      <td>0</td>\n",
       "      <td>633790226052361498</td>\n",
       "      <td>4.087835</td>\n",
       "      <td>1.879999</td>\n",
       "      <td>0.466983</td>\n",
       "      <td>10</td>\n",
       "      <td>14</td>\n",
       "      <td>3</td>\n",
       "      <td>25</td>\n",
       "      <td>237000</td>\n",
       "    </tr>\n",
       "    <tr>\n",
       "      <th>3</th>\n",
       "      <td>0</td>\n",
       "      <td>1</td>\n",
       "      <td>633790226052631792</td>\n",
       "      <td>4.324462</td>\n",
       "      <td>2.072460</td>\n",
       "      <td>0.488065</td>\n",
       "      <td>10</td>\n",
       "      <td>14</td>\n",
       "      <td>3</td>\n",
       "      <td>25</td>\n",
       "      <td>263000</td>\n",
       "    </tr>\n",
       "    <tr>\n",
       "      <th>4</th>\n",
       "      <td>0</td>\n",
       "      <td>3</td>\n",
       "      <td>633790226052902087</td>\n",
       "      <td>4.364077</td>\n",
       "      <td>1.767691</td>\n",
       "      <td>1.299996</td>\n",
       "      <td>10</td>\n",
       "      <td>14</td>\n",
       "      <td>3</td>\n",
       "      <td>25</td>\n",
       "      <td>290000</td>\n",
       "    </tr>\n",
       "  </tbody>\n",
       "</table>\n",
       "</div>"
      ],
      "text/plain": [
       "   sequence name  tag ID           timestamp  tag x coordinate  \\\n",
       "0              0       3  633790226051820913          4.291954   \n",
       "1              0       2  633790226052091205          4.359101   \n",
       "2              0       0  633790226052361498          4.087835   \n",
       "3              0       1  633790226052631792          4.324462   \n",
       "4              0       3  633790226052902087          4.364077   \n",
       "\n",
       "   tag y coordinate  tag z coordinate  activity  hour  minute  second  \\\n",
       "0          1.781140          1.344495        10    14       3      25   \n",
       "1          1.826456          0.968821        10    14       3      25   \n",
       "2          1.879999          0.466983        10    14       3      25   \n",
       "3          2.072460          0.488065        10    14       3      25   \n",
       "4          1.767691          1.299996        10    14       3      25   \n",
       "\n",
       "   microsecond  \n",
       "0       183000  \n",
       "1       210000  \n",
       "2       237000  \n",
       "3       263000  \n",
       "4       290000  "
      ]
     },
     "execution_count": 37,
     "metadata": {},
     "output_type": "execute_result"
    }
   ],
   "source": [
    "clean_df.head()"
   ]
  },
  {
   "cell_type": "code",
   "execution_count": 38,
   "id": "7e8e1c17",
   "metadata": {},
   "outputs": [
    {
     "name": "stdout",
     "output_type": "stream",
     "text": [
      "name of column - hour\n",
      "number of unique values - 5\n",
      "unique values - [14 13 15 11 12]\n",
      "******************************\n",
      "\n",
      "name of column - minute\n",
      "number of unique values - 52\n",
      "unique values - [ 3  4  5  6 10 11 12 13 17 18 19 20 22 23 24 25 29 30 31 32 21 26 27 28\n",
      " 33 34 37 38 39 40 45 46 47 48  7  8  9 35 36 44 49 50 51 52 53 59  0  1\n",
      "  2 14 15 16]\n",
      "******************************\n",
      "\n",
      "name of column - second\n",
      "number of unique values - 60\n",
      "unique values - [25 26 27 28 29 30 31 32 33 34 35 36 37 38 39 40 41 42 43 44 45 46 47 48\n",
      " 49 50 51 52 53 54 55 56 57 58 59  0  1  2  3  4  5  6  7  8  9 10 11 12\n",
      " 13 14 15 16 17 18 19 20 21 22 23 24]\n",
      "******************************\n",
      "\n"
     ]
    }
   ],
   "source": [
    "time_columns = ['hour', 'minute', 'second']\n",
    "\n",
    "\n",
    "for i in time_columns:\n",
    "    print(\"name of column - {}\".format(i))\n",
    "    print(\"number of unique values -\", clean_df[i].nunique())\n",
    "    print(\"unique values -\", clean_df[i].unique()) \n",
    "    print('*'*30)\n",
    "    print()"
   ]
  },
  {
   "cell_type": "code",
   "execution_count": 39,
   "id": "19a93aef",
   "metadata": {},
   "outputs": [
    {
     "name": "stderr",
     "output_type": "stream",
     "text": [
      "C:\\Users\\semam\\anaconda3\\lib\\site-packages\\seaborn\\distributions.py:2619: FutureWarning: `distplot` is a deprecated function and will be removed in a future version. Please adapt your code to use either `displot` (a figure-level function with similar flexibility) or `histplot` (an axes-level function for histograms).\n",
      "  warnings.warn(msg, FutureWarning)\n"
     ]
    },
    {
     "data": {
      "image/png": "[encoded data removed]",
      "text/plain": [
       "<Figure size 432x288 with 1 Axes>"
      ]
     },
     "metadata": {
      "needs_background": "light"
     },
     "output_type": "display_data"
    },
    {
     "name": "stderr",
     "output_type": "stream",
     "text": [
      "C:\\Users\\semam\\anaconda3\\lib\\site-packages\\seaborn\\distributions.py:2619: FutureWarning: `distplot` is a deprecated function and will be removed in a future version. Please adapt your code to use either `displot` (a figure-level function with similar flexibility) or `histplot` (an axes-level function for histograms).\n",
      "  warnings.warn(msg, FutureWarning)\n"
     ]
    },
    {
     "data": {
      "image/png": "[encoded data removed]",
      "text/plain": [
       "<Figure size 432x288 with 1 Axes>"
      ]
     },
     "metadata": {
      "needs_background": "light"
     },
     "output_type": "display_data"
    },
    {
     "name": "stderr",
     "output_type": "stream",
     "text": [
      "C:\\Users\\semam\\anaconda3\\lib\\site-packages\\seaborn\\distributions.py:2619: FutureWarning: `distplot` is a deprecated function and will be removed in a future version. Please adapt your code to use either `displot` (a figure-level function with similar flexibility) or `histplot` (an axes-level function for histograms).\n",
      "  warnings.warn(msg, FutureWarning)\n"
     ]
    },
    {
     "data": {
      "image/png": "[encoded data removed]",
      "text/plain": [
       "<Figure size 432x288 with 1 Axes>"
      ]
     },
     "metadata": {
      "needs_background": "light"
     },
     "output_type": "display_data"
    }
   ],
   "source": [
    "for i in time_columns:\n",
    "    sns.distplot(clean_df[i]) \n",
    "    plt.show()"
   ]
  },
  {
   "cell_type": "code",
   "execution_count": 40,
   "id": "f32a5192",
   "metadata": {},
   "outputs": [
    {
     "data": {
      "text/plain": [
       "(164859, 11)"
      ]
     },
     "execution_count": 40,
     "metadata": {},
     "output_type": "execute_result"
    }
   ],
   "source": [
    "clean_df.shape"
   ]
  },
  {
   "cell_type": "code",
   "execution_count": 41,
   "id": "99ff6566",
   "metadata": {},
   "outputs": [
    {
     "name": "stdout",
     "output_type": "stream",
     "text": [
      "<class 'pandas.core.frame.DataFrame'>\n",
      "RangeIndex: 164859 entries, 0 to 164858\n",
      "Data columns (total 11 columns):\n",
      " #   Column            Non-Null Count   Dtype  \n",
      "---  ------            --------------   -----  \n",
      " 0   sequence name     164859 non-null  int32  \n",
      " 1   tag ID            164859 non-null  int32  \n",
      " 2   timestamp         164859 non-null  int64  \n",
      " 3   tag x coordinate  164859 non-null  float64\n",
      " 4   tag y coordinate  164859 non-null  float64\n",
      " 5   tag z coordinate  164859 non-null  float64\n",
      " 6   activity          164859 non-null  int32  \n",
      " 7   hour              164859 non-null  int64  \n",
      " 8   minute            164859 non-null  int64  \n",
      " 9   second            164859 non-null  int64  \n",
      " 10  microsecond       164859 non-null  int64  \n",
      "dtypes: float64(3), int32(3), int64(5)\n",
      "memory usage: 11.9 MB\n"
     ]
    }
   ],
   "source": [
    "clean_df.info()"
   ]
  },
  {
   "cell_type": "code",
   "execution_count": null,
   "id": "e5c26b57",
   "metadata": {},
   "outputs": [],
   "source": []
  }
 ],
 "metadata": {
  "kernelspec": {
   "display_name": "Python 3 (ipykernel)",
   "language": "python",
   "name": "python3"
  },
  "language_info": {
   "codemirror_mode": {
    "name": "ipython",
    "version": 3
   },
   "file_extension": ".py",
   "mimetype": "text/x-python",
   "name": "python",
   "nbconvert_exporter": "python",
   "pygments_lexer": "ipython3",
   "version": "3.9.7"
  }
 },
 "nbformat": 4,
 "nbformat_minor": 5
}
